{
  "nbformat": 4,
  "nbformat_minor": 0,
  "metadata": {
    "colab": {
      "name": "Cleaning_and_Tidy_dataset.ipynb",
      "provenance": []
    },
    "kernelspec": {
      "name": "python3",
      "display_name": "Python 3"
    }
  },
  "cells": [
    {
      "cell_type": "code",
      "metadata": {
        "id": "byvH2nUKaYIf",
        "colab_type": "code",
        "colab": {
          "base_uri": "https://localhost:8080/",
          "height": 195
        },
        "outputId": "6efe64eb-a787-40f0-eb61-3484673b634d"
      },
      "source": [
        "import pandas as pd\n",
        "import numpy as np\n",
        "import matplotlib.pyplot as plt\n",
        "\n",
        "df_in = pd.read_csv(\"income.csv\")\n",
        "df_mo = pd.read_csv(\"/content/Height_Weight.csv\")\n",
        "df_in.head()"
      ],
      "execution_count": 1,
      "outputs": [
        {
          "output_type": "execute_result",
          "data": {
            "text/html": [
              "<div>\n",
              "<style scoped>\n",
              "    .dataframe tbody tr th:only-of-type {\n",
              "        vertical-align: middle;\n",
              "    }\n",
              "\n",
              "    .dataframe tbody tr th {\n",
              "        vertical-align: top;\n",
              "    }\n",
              "\n",
              "    .dataframe thead th {\n",
              "        text-align: right;\n",
              "    }\n",
              "</style>\n",
              "<table border=\"1\" class=\"dataframe\">\n",
              "  <thead>\n",
              "    <tr style=\"text-align: right;\">\n",
              "      <th></th>\n",
              "      <th>Index</th>\n",
              "      <th>State</th>\n",
              "      <th>Y2002</th>\n",
              "      <th>Y2003</th>\n",
              "      <th>Y2004</th>\n",
              "      <th>Y2005</th>\n",
              "      <th>Y2006</th>\n",
              "      <th>Y2007</th>\n",
              "      <th>Y2008</th>\n",
              "      <th>Y2009</th>\n",
              "      <th>Y2010</th>\n",
              "      <th>Y2011</th>\n",
              "      <th>Y2012</th>\n",
              "      <th>Y2013</th>\n",
              "      <th>Y2014</th>\n",
              "      <th>Y2015</th>\n",
              "    </tr>\n",
              "  </thead>\n",
              "  <tbody>\n",
              "    <tr>\n",
              "      <th>0</th>\n",
              "      <td>A</td>\n",
              "      <td>Alabama</td>\n",
              "      <td>1296530</td>\n",
              "      <td>1317711</td>\n",
              "      <td>1118631</td>\n",
              "      <td>1492583</td>\n",
              "      <td>1107408</td>\n",
              "      <td>1440134</td>\n",
              "      <td>1945229</td>\n",
              "      <td>1944173</td>\n",
              "      <td>1237582</td>\n",
              "      <td>1440756</td>\n",
              "      <td>1186741</td>\n",
              "      <td>1852841</td>\n",
              "      <td>1558906</td>\n",
              "      <td>1916661</td>\n",
              "    </tr>\n",
              "    <tr>\n",
              "      <th>1</th>\n",
              "      <td>A</td>\n",
              "      <td>Alaska</td>\n",
              "      <td>1170302</td>\n",
              "      <td>1960378</td>\n",
              "      <td>1818085</td>\n",
              "      <td>1447852</td>\n",
              "      <td>1861639</td>\n",
              "      <td>1465841</td>\n",
              "      <td>1551826</td>\n",
              "      <td>1436541</td>\n",
              "      <td>1629616</td>\n",
              "      <td>1230866</td>\n",
              "      <td>1512804</td>\n",
              "      <td>1985302</td>\n",
              "      <td>1580394</td>\n",
              "      <td>1979143</td>\n",
              "    </tr>\n",
              "    <tr>\n",
              "      <th>2</th>\n",
              "      <td>A</td>\n",
              "      <td>Arizona</td>\n",
              "      <td>1742027</td>\n",
              "      <td>1968140</td>\n",
              "      <td>1377583</td>\n",
              "      <td>1782199</td>\n",
              "      <td>1102568</td>\n",
              "      <td>1109382</td>\n",
              "      <td>1752886</td>\n",
              "      <td>1554330</td>\n",
              "      <td>1300521</td>\n",
              "      <td>1130709</td>\n",
              "      <td>1907284</td>\n",
              "      <td>1363279</td>\n",
              "      <td>1525866</td>\n",
              "      <td>1647724</td>\n",
              "    </tr>\n",
              "    <tr>\n",
              "      <th>3</th>\n",
              "      <td>A</td>\n",
              "      <td>Arkansas</td>\n",
              "      <td>1485531</td>\n",
              "      <td>1994927</td>\n",
              "      <td>1119299</td>\n",
              "      <td>1947979</td>\n",
              "      <td>1669191</td>\n",
              "      <td>1801213</td>\n",
              "      <td>1188104</td>\n",
              "      <td>1628980</td>\n",
              "      <td>1669295</td>\n",
              "      <td>1928238</td>\n",
              "      <td>1216675</td>\n",
              "      <td>1591896</td>\n",
              "      <td>1360959</td>\n",
              "      <td>1329341</td>\n",
              "    </tr>\n",
              "    <tr>\n",
              "      <th>4</th>\n",
              "      <td>C</td>\n",
              "      <td>California</td>\n",
              "      <td>1685349</td>\n",
              "      <td>1675807</td>\n",
              "      <td>1889570</td>\n",
              "      <td>1480280</td>\n",
              "      <td>1735069</td>\n",
              "      <td>1812546</td>\n",
              "      <td>1487315</td>\n",
              "      <td>1663809</td>\n",
              "      <td>1624509</td>\n",
              "      <td>1639670</td>\n",
              "      <td>1921845</td>\n",
              "      <td>1156536</td>\n",
              "      <td>1388461</td>\n",
              "      <td>1644607</td>\n",
              "    </tr>\n",
              "  </tbody>\n",
              "</table>\n",
              "</div>"
            ],
            "text/plain": [
              "  Index       State    Y2002    Y2003  ...    Y2012    Y2013    Y2014    Y2015\n",
              "0     A     Alabama  1296530  1317711  ...  1186741  1852841  1558906  1916661\n",
              "1     A      Alaska  1170302  1960378  ...  1512804  1985302  1580394  1979143\n",
              "2     A     Arizona  1742027  1968140  ...  1907284  1363279  1525866  1647724\n",
              "3     A    Arkansas  1485531  1994927  ...  1216675  1591896  1360959  1329341\n",
              "4     C  California  1685349  1675807  ...  1921845  1156536  1388461  1644607\n",
              "\n",
              "[5 rows x 16 columns]"
            ]
          },
          "metadata": {
            "tags": []
          },
          "execution_count": 1
        }
      ]
    },
    {
      "cell_type": "code",
      "metadata": {
        "id": "rH3i2qQ_awXy",
        "colab_type": "code",
        "colab": {
          "base_uri": "https://localhost:8080/",
          "height": 34
        },
        "outputId": "8284617e-a086-4986-9934-b3f55b92110b"
      },
      "source": [
        "df_in.shape"
      ],
      "execution_count": 2,
      "outputs": [
        {
          "output_type": "execute_result",
          "data": {
            "text/plain": [
              "(51, 16)"
            ]
          },
          "metadata": {
            "tags": []
          },
          "execution_count": 2
        }
      ]
    },
    {
      "cell_type": "code",
      "metadata": {
        "id": "y31D0N1rbLze",
        "colab_type": "code",
        "colab": {
          "base_uri": "https://localhost:8080/",
          "height": 304
        },
        "outputId": "3c5a33c1-55a9-411e-c502-596045516375"
      },
      "source": [
        "df_in.describe()"
      ],
      "execution_count": 3,
      "outputs": [
        {
          "output_type": "execute_result",
          "data": {
            "text/html": [
              "<div>\n",
              "<style scoped>\n",
              "    .dataframe tbody tr th:only-of-type {\n",
              "        vertical-align: middle;\n",
              "    }\n",
              "\n",
              "    .dataframe tbody tr th {\n",
              "        vertical-align: top;\n",
              "    }\n",
              "\n",
              "    .dataframe thead th {\n",
              "        text-align: right;\n",
              "    }\n",
              "</style>\n",
              "<table border=\"1\" class=\"dataframe\">\n",
              "  <thead>\n",
              "    <tr style=\"text-align: right;\">\n",
              "      <th></th>\n",
              "      <th>Y2002</th>\n",
              "      <th>Y2003</th>\n",
              "      <th>Y2004</th>\n",
              "      <th>Y2005</th>\n",
              "      <th>Y2006</th>\n",
              "      <th>Y2007</th>\n",
              "      <th>Y2008</th>\n",
              "      <th>Y2009</th>\n",
              "      <th>Y2010</th>\n",
              "      <th>Y2011</th>\n",
              "      <th>Y2012</th>\n",
              "      <th>Y2013</th>\n",
              "      <th>Y2014</th>\n",
              "      <th>Y2015</th>\n",
              "    </tr>\n",
              "  </thead>\n",
              "  <tbody>\n",
              "    <tr>\n",
              "      <th>count</th>\n",
              "      <td>5.100000e+01</td>\n",
              "      <td>5.100000e+01</td>\n",
              "      <td>5.100000e+01</td>\n",
              "      <td>5.100000e+01</td>\n",
              "      <td>5.100000e+01</td>\n",
              "      <td>5.100000e+01</td>\n",
              "      <td>5.100000e+01</td>\n",
              "      <td>5.100000e+01</td>\n",
              "      <td>5.100000e+01</td>\n",
              "      <td>5.100000e+01</td>\n",
              "      <td>5.100000e+01</td>\n",
              "      <td>5.100000e+01</td>\n",
              "      <td>5.100000e+01</td>\n",
              "      <td>5.100000e+01</td>\n",
              "    </tr>\n",
              "    <tr>\n",
              "      <th>mean</th>\n",
              "      <td>1.566034e+06</td>\n",
              "      <td>1.509193e+06</td>\n",
              "      <td>1.540555e+06</td>\n",
              "      <td>1.522064e+06</td>\n",
              "      <td>1.530969e+06</td>\n",
              "      <td>1.553219e+06</td>\n",
              "      <td>1.538398e+06</td>\n",
              "      <td>1.658519e+06</td>\n",
              "      <td>1.504108e+06</td>\n",
              "      <td>1.574968e+06</td>\n",
              "      <td>1.591135e+06</td>\n",
              "      <td>1.530078e+06</td>\n",
              "      <td>1.583360e+06</td>\n",
              "      <td>1.588297e+06</td>\n",
              "    </tr>\n",
              "    <tr>\n",
              "      <th>std</th>\n",
              "      <td>2.464425e+05</td>\n",
              "      <td>2.641092e+05</td>\n",
              "      <td>2.813872e+05</td>\n",
              "      <td>2.671748e+05</td>\n",
              "      <td>2.505603e+05</td>\n",
              "      <td>2.539575e+05</td>\n",
              "      <td>2.958132e+05</td>\n",
              "      <td>2.361854e+05</td>\n",
              "      <td>2.400771e+05</td>\n",
              "      <td>2.657216e+05</td>\n",
              "      <td>2.837675e+05</td>\n",
              "      <td>2.827299e+05</td>\n",
              "      <td>2.601554e+05</td>\n",
              "      <td>2.743807e+05</td>\n",
              "    </tr>\n",
              "    <tr>\n",
              "      <th>min</th>\n",
              "      <td>1.111437e+06</td>\n",
              "      <td>1.110625e+06</td>\n",
              "      <td>1.118631e+06</td>\n",
              "      <td>1.122030e+06</td>\n",
              "      <td>1.102568e+06</td>\n",
              "      <td>1.109382e+06</td>\n",
              "      <td>1.112765e+06</td>\n",
              "      <td>1.116168e+06</td>\n",
              "      <td>1.103794e+06</td>\n",
              "      <td>1.116203e+06</td>\n",
              "      <td>1.108281e+06</td>\n",
              "      <td>1.100990e+06</td>\n",
              "      <td>1.110394e+06</td>\n",
              "      <td>1.110655e+06</td>\n",
              "    </tr>\n",
              "    <tr>\n",
              "      <th>25%</th>\n",
              "      <td>1.374180e+06</td>\n",
              "      <td>1.292390e+06</td>\n",
              "      <td>1.268292e+06</td>\n",
              "      <td>1.267340e+06</td>\n",
              "      <td>1.337236e+06</td>\n",
              "      <td>1.322419e+06</td>\n",
              "      <td>1.254244e+06</td>\n",
              "      <td>1.553958e+06</td>\n",
              "      <td>1.328439e+06</td>\n",
              "      <td>1.371730e+06</td>\n",
              "      <td>1.360654e+06</td>\n",
              "      <td>1.285738e+06</td>\n",
              "      <td>1.385703e+06</td>\n",
              "      <td>1.372523e+06</td>\n",
              "    </tr>\n",
              "    <tr>\n",
              "      <th>50%</th>\n",
              "      <td>1.584734e+06</td>\n",
              "      <td>1.485909e+06</td>\n",
              "      <td>1.522230e+06</td>\n",
              "      <td>1.480280e+06</td>\n",
              "      <td>1.531641e+06</td>\n",
              "      <td>1.563062e+06</td>\n",
              "      <td>1.545621e+06</td>\n",
              "      <td>1.658551e+06</td>\n",
              "      <td>1.498662e+06</td>\n",
              "      <td>1.575533e+06</td>\n",
              "      <td>1.643855e+06</td>\n",
              "      <td>1.531212e+06</td>\n",
              "      <td>1.580394e+06</td>\n",
              "      <td>1.627508e+06</td>\n",
              "    </tr>\n",
              "    <tr>\n",
              "      <th>75%</th>\n",
              "      <td>1.776054e+06</td>\n",
              "      <td>1.686698e+06</td>\n",
              "      <td>1.808109e+06</td>\n",
              "      <td>1.778170e+06</td>\n",
              "      <td>1.732259e+06</td>\n",
              "      <td>1.780589e+06</td>\n",
              "      <td>1.779538e+06</td>\n",
              "      <td>1.857746e+06</td>\n",
              "      <td>1.639186e+06</td>\n",
              "      <td>1.807766e+06</td>\n",
              "      <td>1.866322e+06</td>\n",
              "      <td>1.725377e+06</td>\n",
              "      <td>1.791594e+06</td>\n",
              "      <td>1.848316e+06</td>\n",
              "    </tr>\n",
              "    <tr>\n",
              "      <th>max</th>\n",
              "      <td>1.983285e+06</td>\n",
              "      <td>1.994927e+06</td>\n",
              "      <td>1.979395e+06</td>\n",
              "      <td>1.990062e+06</td>\n",
              "      <td>1.985692e+06</td>\n",
              "      <td>1.983568e+06</td>\n",
              "      <td>1.990431e+06</td>\n",
              "      <td>1.993136e+06</td>\n",
              "      <td>1.999102e+06</td>\n",
              "      <td>1.992996e+06</td>\n",
              "      <td>1.988270e+06</td>\n",
              "      <td>1.994022e+06</td>\n",
              "      <td>1.990412e+06</td>\n",
              "      <td>1.996005e+06</td>\n",
              "    </tr>\n",
              "  </tbody>\n",
              "</table>\n",
              "</div>"
            ],
            "text/plain": [
              "              Y2002         Y2003  ...         Y2014         Y2015\n",
              "count  5.100000e+01  5.100000e+01  ...  5.100000e+01  5.100000e+01\n",
              "mean   1.566034e+06  1.509193e+06  ...  1.583360e+06  1.588297e+06\n",
              "std    2.464425e+05  2.641092e+05  ...  2.601554e+05  2.743807e+05\n",
              "min    1.111437e+06  1.110625e+06  ...  1.110394e+06  1.110655e+06\n",
              "25%    1.374180e+06  1.292390e+06  ...  1.385703e+06  1.372523e+06\n",
              "50%    1.584734e+06  1.485909e+06  ...  1.580394e+06  1.627508e+06\n",
              "75%    1.776054e+06  1.686698e+06  ...  1.791594e+06  1.848316e+06\n",
              "max    1.983285e+06  1.994927e+06  ...  1.990412e+06  1.996005e+06\n",
              "\n",
              "[8 rows x 14 columns]"
            ]
          },
          "metadata": {
            "tags": []
          },
          "execution_count": 3
        }
      ]
    },
    {
      "cell_type": "code",
      "metadata": {
        "id": "d4QoFCEkV4vI",
        "colab_type": "code",
        "colab": {
          "base_uri": "https://localhost:8080/",
          "height": 195
        },
        "outputId": "44d787f1-ea2e-4a7d-d89d-15714f5996f6"
      },
      "source": [
        "df_mo.head()"
      ],
      "execution_count": 4,
      "outputs": [
        {
          "output_type": "execute_result",
          "data": {
            "text/html": [
              "<div>\n",
              "<style scoped>\n",
              "    .dataframe tbody tr th:only-of-type {\n",
              "        vertical-align: middle;\n",
              "    }\n",
              "\n",
              "    .dataframe tbody tr th {\n",
              "        vertical-align: top;\n",
              "    }\n",
              "\n",
              "    .dataframe thead th {\n",
              "        text-align: right;\n",
              "    }\n",
              "</style>\n",
              "<table border=\"1\" class=\"dataframe\">\n",
              "  <thead>\n",
              "    <tr style=\"text-align: right;\">\n",
              "      <th></th>\n",
              "      <th>Index\\tHeight(Inches)\\tWeight(Pounds)</th>\n",
              "    </tr>\n",
              "  </thead>\n",
              "  <tbody>\n",
              "    <tr>\n",
              "      <th>0</th>\n",
              "      <td>1\\t65.78331\\t112.9925</td>\n",
              "    </tr>\n",
              "    <tr>\n",
              "      <th>1</th>\n",
              "      <td>2\\t71.51521\\t136.4873</td>\n",
              "    </tr>\n",
              "    <tr>\n",
              "      <th>2</th>\n",
              "      <td>3\\t69.39874\\t153.0269</td>\n",
              "    </tr>\n",
              "    <tr>\n",
              "      <th>3</th>\n",
              "      <td>4\\t68.2166\\t142.3354</td>\n",
              "    </tr>\n",
              "    <tr>\n",
              "      <th>4</th>\n",
              "      <td>5\\t67.78781\\t144.2971</td>\n",
              "    </tr>\n",
              "  </tbody>\n",
              "</table>\n",
              "</div>"
            ],
            "text/plain": [
              "  Index\\tHeight(Inches)\\tWeight(Pounds)\n",
              "0                 1\\t65.78331\\t112.9925\n",
              "1                 2\\t71.51521\\t136.4873\n",
              "2                 3\\t69.39874\\t153.0269\n",
              "3                  4\\t68.2166\\t142.3354\n",
              "4                 5\\t67.78781\\t144.2971"
            ]
          },
          "metadata": {
            "tags": []
          },
          "execution_count": 4
        }
      ]
    },
    {
      "cell_type": "markdown",
      "metadata": {
        "id": "KFOLZw7ubbKq",
        "colab_type": "text"
      },
      "source": [
        "## 3 -Tidying messy datasets"
      ]
    },
    {
      "cell_type": "code",
      "metadata": {
        "id": "7ydqKno0cD43",
        "colab_type": "code",
        "colab": {
          "base_uri": "https://localhost:8080/",
          "height": 195
        },
        "outputId": "0e120497-0349-4ebf-c1c8-ce7bb2ecae3f"
      },
      "source": [
        "## Dataset use for this Data Analysis\n",
        "df = df_in.iloc[:, 0:10]\n",
        "df.head()"
      ],
      "execution_count": 5,
      "outputs": [
        {
          "output_type": "execute_result",
          "data": {
            "text/html": [
              "<div>\n",
              "<style scoped>\n",
              "    .dataframe tbody tr th:only-of-type {\n",
              "        vertical-align: middle;\n",
              "    }\n",
              "\n",
              "    .dataframe tbody tr th {\n",
              "        vertical-align: top;\n",
              "    }\n",
              "\n",
              "    .dataframe thead th {\n",
              "        text-align: right;\n",
              "    }\n",
              "</style>\n",
              "<table border=\"1\" class=\"dataframe\">\n",
              "  <thead>\n",
              "    <tr style=\"text-align: right;\">\n",
              "      <th></th>\n",
              "      <th>Index</th>\n",
              "      <th>State</th>\n",
              "      <th>Y2002</th>\n",
              "      <th>Y2003</th>\n",
              "      <th>Y2004</th>\n",
              "      <th>Y2005</th>\n",
              "      <th>Y2006</th>\n",
              "      <th>Y2007</th>\n",
              "      <th>Y2008</th>\n",
              "      <th>Y2009</th>\n",
              "    </tr>\n",
              "  </thead>\n",
              "  <tbody>\n",
              "    <tr>\n",
              "      <th>0</th>\n",
              "      <td>A</td>\n",
              "      <td>Alabama</td>\n",
              "      <td>1296530</td>\n",
              "      <td>1317711</td>\n",
              "      <td>1118631</td>\n",
              "      <td>1492583</td>\n",
              "      <td>1107408</td>\n",
              "      <td>1440134</td>\n",
              "      <td>1945229</td>\n",
              "      <td>1944173</td>\n",
              "    </tr>\n",
              "    <tr>\n",
              "      <th>1</th>\n",
              "      <td>A</td>\n",
              "      <td>Alaska</td>\n",
              "      <td>1170302</td>\n",
              "      <td>1960378</td>\n",
              "      <td>1818085</td>\n",
              "      <td>1447852</td>\n",
              "      <td>1861639</td>\n",
              "      <td>1465841</td>\n",
              "      <td>1551826</td>\n",
              "      <td>1436541</td>\n",
              "    </tr>\n",
              "    <tr>\n",
              "      <th>2</th>\n",
              "      <td>A</td>\n",
              "      <td>Arizona</td>\n",
              "      <td>1742027</td>\n",
              "      <td>1968140</td>\n",
              "      <td>1377583</td>\n",
              "      <td>1782199</td>\n",
              "      <td>1102568</td>\n",
              "      <td>1109382</td>\n",
              "      <td>1752886</td>\n",
              "      <td>1554330</td>\n",
              "    </tr>\n",
              "    <tr>\n",
              "      <th>3</th>\n",
              "      <td>A</td>\n",
              "      <td>Arkansas</td>\n",
              "      <td>1485531</td>\n",
              "      <td>1994927</td>\n",
              "      <td>1119299</td>\n",
              "      <td>1947979</td>\n",
              "      <td>1669191</td>\n",
              "      <td>1801213</td>\n",
              "      <td>1188104</td>\n",
              "      <td>1628980</td>\n",
              "    </tr>\n",
              "    <tr>\n",
              "      <th>4</th>\n",
              "      <td>C</td>\n",
              "      <td>California</td>\n",
              "      <td>1685349</td>\n",
              "      <td>1675807</td>\n",
              "      <td>1889570</td>\n",
              "      <td>1480280</td>\n",
              "      <td>1735069</td>\n",
              "      <td>1812546</td>\n",
              "      <td>1487315</td>\n",
              "      <td>1663809</td>\n",
              "    </tr>\n",
              "  </tbody>\n",
              "</table>\n",
              "</div>"
            ],
            "text/plain": [
              "  Index       State    Y2002    Y2003  ...    Y2006    Y2007    Y2008    Y2009\n",
              "0     A     Alabama  1296530  1317711  ...  1107408  1440134  1945229  1944173\n",
              "1     A      Alaska  1170302  1960378  ...  1861639  1465841  1551826  1436541\n",
              "2     A     Arizona  1742027  1968140  ...  1102568  1109382  1752886  1554330\n",
              "3     A    Arkansas  1485531  1994927  ...  1669191  1801213  1188104  1628980\n",
              "4     C  California  1685349  1675807  ...  1735069  1812546  1487315  1663809\n",
              "\n",
              "[5 rows x 10 columns]"
            ]
          },
          "metadata": {
            "tags": []
          },
          "execution_count": 5
        }
      ]
    },
    {
      "cell_type": "markdown",
      "metadata": {
        "id": "fHNHKioXburU",
        "colab_type": "text"
      },
      "source": [
        "### 3.1 Column headers are values, not variable names"
      ]
    },
    {
      "cell_type": "code",
      "metadata": {
        "id": "w1M5UulhbOkn",
        "colab_type": "code",
        "colab": {
          "base_uri": "https://localhost:8080/",
          "height": 195
        },
        "outputId": "894bc1e3-6abc-4c46-ba50-e96222b790ed"
      },
      "source": [
        "df.head()"
      ],
      "execution_count": 6,
      "outputs": [
        {
          "output_type": "execute_result",
          "data": {
            "text/html": [
              "<div>\n",
              "<style scoped>\n",
              "    .dataframe tbody tr th:only-of-type {\n",
              "        vertical-align: middle;\n",
              "    }\n",
              "\n",
              "    .dataframe tbody tr th {\n",
              "        vertical-align: top;\n",
              "    }\n",
              "\n",
              "    .dataframe thead th {\n",
              "        text-align: right;\n",
              "    }\n",
              "</style>\n",
              "<table border=\"1\" class=\"dataframe\">\n",
              "  <thead>\n",
              "    <tr style=\"text-align: right;\">\n",
              "      <th></th>\n",
              "      <th>Index</th>\n",
              "      <th>State</th>\n",
              "      <th>Y2002</th>\n",
              "      <th>Y2003</th>\n",
              "      <th>Y2004</th>\n",
              "      <th>Y2005</th>\n",
              "      <th>Y2006</th>\n",
              "      <th>Y2007</th>\n",
              "      <th>Y2008</th>\n",
              "      <th>Y2009</th>\n",
              "    </tr>\n",
              "  </thead>\n",
              "  <tbody>\n",
              "    <tr>\n",
              "      <th>0</th>\n",
              "      <td>A</td>\n",
              "      <td>Alabama</td>\n",
              "      <td>1296530</td>\n",
              "      <td>1317711</td>\n",
              "      <td>1118631</td>\n",
              "      <td>1492583</td>\n",
              "      <td>1107408</td>\n",
              "      <td>1440134</td>\n",
              "      <td>1945229</td>\n",
              "      <td>1944173</td>\n",
              "    </tr>\n",
              "    <tr>\n",
              "      <th>1</th>\n",
              "      <td>A</td>\n",
              "      <td>Alaska</td>\n",
              "      <td>1170302</td>\n",
              "      <td>1960378</td>\n",
              "      <td>1818085</td>\n",
              "      <td>1447852</td>\n",
              "      <td>1861639</td>\n",
              "      <td>1465841</td>\n",
              "      <td>1551826</td>\n",
              "      <td>1436541</td>\n",
              "    </tr>\n",
              "    <tr>\n",
              "      <th>2</th>\n",
              "      <td>A</td>\n",
              "      <td>Arizona</td>\n",
              "      <td>1742027</td>\n",
              "      <td>1968140</td>\n",
              "      <td>1377583</td>\n",
              "      <td>1782199</td>\n",
              "      <td>1102568</td>\n",
              "      <td>1109382</td>\n",
              "      <td>1752886</td>\n",
              "      <td>1554330</td>\n",
              "    </tr>\n",
              "    <tr>\n",
              "      <th>3</th>\n",
              "      <td>A</td>\n",
              "      <td>Arkansas</td>\n",
              "      <td>1485531</td>\n",
              "      <td>1994927</td>\n",
              "      <td>1119299</td>\n",
              "      <td>1947979</td>\n",
              "      <td>1669191</td>\n",
              "      <td>1801213</td>\n",
              "      <td>1188104</td>\n",
              "      <td>1628980</td>\n",
              "    </tr>\n",
              "    <tr>\n",
              "      <th>4</th>\n",
              "      <td>C</td>\n",
              "      <td>California</td>\n",
              "      <td>1685349</td>\n",
              "      <td>1675807</td>\n",
              "      <td>1889570</td>\n",
              "      <td>1480280</td>\n",
              "      <td>1735069</td>\n",
              "      <td>1812546</td>\n",
              "      <td>1487315</td>\n",
              "      <td>1663809</td>\n",
              "    </tr>\n",
              "  </tbody>\n",
              "</table>\n",
              "</div>"
            ],
            "text/plain": [
              "  Index       State    Y2002    Y2003  ...    Y2006    Y2007    Y2008    Y2009\n",
              "0     A     Alabama  1296530  1317711  ...  1107408  1440134  1945229  1944173\n",
              "1     A      Alaska  1170302  1960378  ...  1861639  1465841  1551826  1436541\n",
              "2     A     Arizona  1742027  1968140  ...  1102568  1109382  1752886  1554330\n",
              "3     A    Arkansas  1485531  1994927  ...  1669191  1801213  1188104  1628980\n",
              "4     C  California  1685349  1675807  ...  1735069  1812546  1487315  1663809\n",
              "\n",
              "[5 rows x 10 columns]"
            ]
          },
          "metadata": {
            "tags": []
          },
          "execution_count": 6
        }
      ]
    },
    {
      "cell_type": "code",
      "metadata": {
        "id": "rZp2QrQ1PPP4",
        "colab_type": "code",
        "colab": {
          "base_uri": "https://localhost:8080/",
          "height": 284
        },
        "outputId": "92eb771b-2279-4f2b-d436-94d994351601"
      },
      "source": [
        "df_1 = pd.DataFrame()\n",
        "df_1['Year'] = list(df.columns[2:])\n",
        "df_1['State'] = df.iloc[0,1]\n",
        "df_1['Income'] = list(df.iloc[0, 2:])\n",
        "df_1 = df_1[['State', 'Year', 'Income']]\n",
        "df_1"
      ],
      "execution_count": 7,
      "outputs": [
        {
          "output_type": "execute_result",
          "data": {
            "text/html": [
              "<div>\n",
              "<style scoped>\n",
              "    .dataframe tbody tr th:only-of-type {\n",
              "        vertical-align: middle;\n",
              "    }\n",
              "\n",
              "    .dataframe tbody tr th {\n",
              "        vertical-align: top;\n",
              "    }\n",
              "\n",
              "    .dataframe thead th {\n",
              "        text-align: right;\n",
              "    }\n",
              "</style>\n",
              "<table border=\"1\" class=\"dataframe\">\n",
              "  <thead>\n",
              "    <tr style=\"text-align: right;\">\n",
              "      <th></th>\n",
              "      <th>State</th>\n",
              "      <th>Year</th>\n",
              "      <th>Income</th>\n",
              "    </tr>\n",
              "  </thead>\n",
              "  <tbody>\n",
              "    <tr>\n",
              "      <th>0</th>\n",
              "      <td>Alabama</td>\n",
              "      <td>Y2002</td>\n",
              "      <td>1296530</td>\n",
              "    </tr>\n",
              "    <tr>\n",
              "      <th>1</th>\n",
              "      <td>Alabama</td>\n",
              "      <td>Y2003</td>\n",
              "      <td>1317711</td>\n",
              "    </tr>\n",
              "    <tr>\n",
              "      <th>2</th>\n",
              "      <td>Alabama</td>\n",
              "      <td>Y2004</td>\n",
              "      <td>1118631</td>\n",
              "    </tr>\n",
              "    <tr>\n",
              "      <th>3</th>\n",
              "      <td>Alabama</td>\n",
              "      <td>Y2005</td>\n",
              "      <td>1492583</td>\n",
              "    </tr>\n",
              "    <tr>\n",
              "      <th>4</th>\n",
              "      <td>Alabama</td>\n",
              "      <td>Y2006</td>\n",
              "      <td>1107408</td>\n",
              "    </tr>\n",
              "    <tr>\n",
              "      <th>5</th>\n",
              "      <td>Alabama</td>\n",
              "      <td>Y2007</td>\n",
              "      <td>1440134</td>\n",
              "    </tr>\n",
              "    <tr>\n",
              "      <th>6</th>\n",
              "      <td>Alabama</td>\n",
              "      <td>Y2008</td>\n",
              "      <td>1945229</td>\n",
              "    </tr>\n",
              "    <tr>\n",
              "      <th>7</th>\n",
              "      <td>Alabama</td>\n",
              "      <td>Y2009</td>\n",
              "      <td>1944173</td>\n",
              "    </tr>\n",
              "  </tbody>\n",
              "</table>\n",
              "</div>"
            ],
            "text/plain": [
              "     State   Year   Income\n",
              "0  Alabama  Y2002  1296530\n",
              "1  Alabama  Y2003  1317711\n",
              "2  Alabama  Y2004  1118631\n",
              "3  Alabama  Y2005  1492583\n",
              "4  Alabama  Y2006  1107408\n",
              "5  Alabama  Y2007  1440134\n",
              "6  Alabama  Y2008  1945229\n",
              "7  Alabama  Y2009  1944173"
            ]
          },
          "metadata": {
            "tags": []
          },
          "execution_count": 7
        }
      ]
    },
    {
      "cell_type": "markdown",
      "metadata": {
        "id": "lR4gGmJXVCg_",
        "colab_type": "text"
      },
      "source": [
        "### 3.2 Multiple variables stored in one column OR\n",
        " Creating separate entity of name of columns"
      ]
    },
    {
      "cell_type": "code",
      "metadata": {
        "id": "SkGnbEDsHvtp",
        "colab_type": "code",
        "colab": {
          "base_uri": "https://localhost:8080/",
          "height": 34
        },
        "outputId": "ad919276-2427-4cb3-dd98-3e900b60eb39"
      },
      "source": [
        "from re import findall\n",
        "\n",
        "year = []\n",
        "for i in range(0, len(df.columns[2:])):\n",
        "  \n",
        "  se = findall('[0-9]+' , df.columns[2:][i])\n",
        "  year.append(se[0])\n",
        "print(year)"
      ],
      "execution_count": 8,
      "outputs": [
        {
          "output_type": "stream",
          "text": [
            "['2002', '2003', '2004', '2005', '2006', '2007', '2008', '2009']\n"
          ],
          "name": "stdout"
        }
      ]
    },
    {
      "cell_type": "code",
      "metadata": {
        "id": "JwPCA5RlnRLJ",
        "colab_type": "code",
        "colab": {
          "base_uri": "https://localhost:8080/",
          "height": 195
        },
        "outputId": "c242719b-bf17-4d68-89eb-06a721f6ac74"
      },
      "source": [
        "df.head()"
      ],
      "execution_count": 9,
      "outputs": [
        {
          "output_type": "execute_result",
          "data": {
            "text/html": [
              "<div>\n",
              "<style scoped>\n",
              "    .dataframe tbody tr th:only-of-type {\n",
              "        vertical-align: middle;\n",
              "    }\n",
              "\n",
              "    .dataframe tbody tr th {\n",
              "        vertical-align: top;\n",
              "    }\n",
              "\n",
              "    .dataframe thead th {\n",
              "        text-align: right;\n",
              "    }\n",
              "</style>\n",
              "<table border=\"1\" class=\"dataframe\">\n",
              "  <thead>\n",
              "    <tr style=\"text-align: right;\">\n",
              "      <th></th>\n",
              "      <th>Index</th>\n",
              "      <th>State</th>\n",
              "      <th>Y2002</th>\n",
              "      <th>Y2003</th>\n",
              "      <th>Y2004</th>\n",
              "      <th>Y2005</th>\n",
              "      <th>Y2006</th>\n",
              "      <th>Y2007</th>\n",
              "      <th>Y2008</th>\n",
              "      <th>Y2009</th>\n",
              "    </tr>\n",
              "  </thead>\n",
              "  <tbody>\n",
              "    <tr>\n",
              "      <th>0</th>\n",
              "      <td>A</td>\n",
              "      <td>Alabama</td>\n",
              "      <td>1296530</td>\n",
              "      <td>1317711</td>\n",
              "      <td>1118631</td>\n",
              "      <td>1492583</td>\n",
              "      <td>1107408</td>\n",
              "      <td>1440134</td>\n",
              "      <td>1945229</td>\n",
              "      <td>1944173</td>\n",
              "    </tr>\n",
              "    <tr>\n",
              "      <th>1</th>\n",
              "      <td>A</td>\n",
              "      <td>Alaska</td>\n",
              "      <td>1170302</td>\n",
              "      <td>1960378</td>\n",
              "      <td>1818085</td>\n",
              "      <td>1447852</td>\n",
              "      <td>1861639</td>\n",
              "      <td>1465841</td>\n",
              "      <td>1551826</td>\n",
              "      <td>1436541</td>\n",
              "    </tr>\n",
              "    <tr>\n",
              "      <th>2</th>\n",
              "      <td>A</td>\n",
              "      <td>Arizona</td>\n",
              "      <td>1742027</td>\n",
              "      <td>1968140</td>\n",
              "      <td>1377583</td>\n",
              "      <td>1782199</td>\n",
              "      <td>1102568</td>\n",
              "      <td>1109382</td>\n",
              "      <td>1752886</td>\n",
              "      <td>1554330</td>\n",
              "    </tr>\n",
              "    <tr>\n",
              "      <th>3</th>\n",
              "      <td>A</td>\n",
              "      <td>Arkansas</td>\n",
              "      <td>1485531</td>\n",
              "      <td>1994927</td>\n",
              "      <td>1119299</td>\n",
              "      <td>1947979</td>\n",
              "      <td>1669191</td>\n",
              "      <td>1801213</td>\n",
              "      <td>1188104</td>\n",
              "      <td>1628980</td>\n",
              "    </tr>\n",
              "    <tr>\n",
              "      <th>4</th>\n",
              "      <td>C</td>\n",
              "      <td>California</td>\n",
              "      <td>1685349</td>\n",
              "      <td>1675807</td>\n",
              "      <td>1889570</td>\n",
              "      <td>1480280</td>\n",
              "      <td>1735069</td>\n",
              "      <td>1812546</td>\n",
              "      <td>1487315</td>\n",
              "      <td>1663809</td>\n",
              "    </tr>\n",
              "  </tbody>\n",
              "</table>\n",
              "</div>"
            ],
            "text/plain": [
              "  Index       State    Y2002    Y2003  ...    Y2006    Y2007    Y2008    Y2009\n",
              "0     A     Alabama  1296530  1317711  ...  1107408  1440134  1945229  1944173\n",
              "1     A      Alaska  1170302  1960378  ...  1861639  1465841  1551826  1436541\n",
              "2     A     Arizona  1742027  1968140  ...  1102568  1109382  1752886  1554330\n",
              "3     A    Arkansas  1485531  1994927  ...  1669191  1801213  1188104  1628980\n",
              "4     C  California  1685349  1675807  ...  1735069  1812546  1487315  1663809\n",
              "\n",
              "[5 rows x 10 columns]"
            ]
          },
          "metadata": {
            "tags": []
          },
          "execution_count": 9
        }
      ]
    },
    {
      "cell_type": "code",
      "metadata": {
        "id": "tyVyoMYMkmHD",
        "colab_type": "code",
        "colab": {}
      },
      "source": [
        "df_2 = pd.DataFrame()\n",
        "df_2['year'] = year"
      ],
      "execution_count": 10,
      "outputs": []
    },
    {
      "cell_type": "code",
      "metadata": {
        "id": "2YhSsfJrX12B",
        "colab_type": "code",
        "colab": {
          "base_uri": "https://localhost:8080/",
          "height": 202
        },
        "outputId": "81bef30d-3102-4321-d92f-733fd3b0c82c"
      },
      "source": [
        "df.iloc[:,0][0:10]"
      ],
      "execution_count": 11,
      "outputs": [
        {
          "output_type": "execute_result",
          "data": {
            "text/plain": [
              "0    A\n",
              "1    A\n",
              "2    A\n",
              "3    A\n",
              "4    C\n",
              "5    C\n",
              "6    C\n",
              "7    D\n",
              "8    D\n",
              "9    F\n",
              "Name: Index, dtype: object"
            ]
          },
          "metadata": {
            "tags": []
          },
          "execution_count": 11
        }
      ]
    },
    {
      "cell_type": "code",
      "metadata": {
        "id": "lfx6NGtIf6P_",
        "colab_type": "code",
        "colab": {}
      },
      "source": [
        "df_2['State'] = df.iloc[0,1]\n",
        "df_2['Income'] = list(df.iloc[0, 2:])\n",
        "df_2.index = df.iloc[:,0][0:8]\n",
        "df_2 = df_2[['State', 'year', 'Income']]"
      ],
      "execution_count": 12,
      "outputs": []
    },
    {
      "cell_type": "code",
      "metadata": {
        "id": "GHlyZsC-Yfqe",
        "colab_type": "code",
        "colab": {}
      },
      "source": [
        "df_2"
      ],
      "execution_count": null,
      "outputs": []
    },
    {
      "cell_type": "markdown",
      "metadata": {
        "id": "RrL2jx0ojoIN",
        "colab_type": "text"
      },
      "source": [
        "### 3.3 Variables are stored in both rows and columns"
      ]
    },
    {
      "cell_type": "code",
      "metadata": {
        "id": "8GMeAL7fj8td",
        "colab_type": "code",
        "colab": {
          "base_uri": "https://localhost:8080/",
          "height": 195
        },
        "outputId": "2a49d551-b165-4e85-d70d-d345cec5ee61"
      },
      "source": [
        "df_mo = pd.read_csv(\"/content/Height_Weight.csv\")\n",
        "df_mo.head()"
      ],
      "execution_count": 14,
      "outputs": [
        {
          "output_type": "execute_result",
          "data": {
            "text/html": [
              "<div>\n",
              "<style scoped>\n",
              "    .dataframe tbody tr th:only-of-type {\n",
              "        vertical-align: middle;\n",
              "    }\n",
              "\n",
              "    .dataframe tbody tr th {\n",
              "        vertical-align: top;\n",
              "    }\n",
              "\n",
              "    .dataframe thead th {\n",
              "        text-align: right;\n",
              "    }\n",
              "</style>\n",
              "<table border=\"1\" class=\"dataframe\">\n",
              "  <thead>\n",
              "    <tr style=\"text-align: right;\">\n",
              "      <th></th>\n",
              "      <th>Index\\tHeight(Inches)\\tWeight(Pounds)</th>\n",
              "    </tr>\n",
              "  </thead>\n",
              "  <tbody>\n",
              "    <tr>\n",
              "      <th>0</th>\n",
              "      <td>1\\t65.78331\\t112.9925</td>\n",
              "    </tr>\n",
              "    <tr>\n",
              "      <th>1</th>\n",
              "      <td>2\\t71.51521\\t136.4873</td>\n",
              "    </tr>\n",
              "    <tr>\n",
              "      <th>2</th>\n",
              "      <td>3\\t69.39874\\t153.0269</td>\n",
              "    </tr>\n",
              "    <tr>\n",
              "      <th>3</th>\n",
              "      <td>4\\t68.2166\\t142.3354</td>\n",
              "    </tr>\n",
              "    <tr>\n",
              "      <th>4</th>\n",
              "      <td>5\\t67.78781\\t144.2971</td>\n",
              "    </tr>\n",
              "  </tbody>\n",
              "</table>\n",
              "</div>"
            ],
            "text/plain": [
              "  Index\\tHeight(Inches)\\tWeight(Pounds)\n",
              "0                 1\\t65.78331\\t112.9925\n",
              "1                 2\\t71.51521\\t136.4873\n",
              "2                 3\\t69.39874\\t153.0269\n",
              "3                  4\\t68.2166\\t142.3354\n",
              "4                 5\\t67.78781\\t144.2971"
            ]
          },
          "metadata": {
            "tags": []
          },
          "execution_count": 14
        }
      ]
    },
    {
      "cell_type": "code",
      "metadata": {
        "id": "Z4VXjXcQYpKE",
        "colab_type": "code",
        "colab": {
          "base_uri": "https://localhost:8080/",
          "height": 195
        },
        "outputId": "2d7c6b95-acb6-4eb5-dbb0-93c5bd14836e"
      },
      "source": [
        "df_mo = pd.read_csv(\"/content/Height_Weight.csv\", sep='\\t')\n",
        "df_mo.head()"
      ],
      "execution_count": 15,
      "outputs": [
        {
          "output_type": "execute_result",
          "data": {
            "text/html": [
              "<div>\n",
              "<style scoped>\n",
              "    .dataframe tbody tr th:only-of-type {\n",
              "        vertical-align: middle;\n",
              "    }\n",
              "\n",
              "    .dataframe tbody tr th {\n",
              "        vertical-align: top;\n",
              "    }\n",
              "\n",
              "    .dataframe thead th {\n",
              "        text-align: right;\n",
              "    }\n",
              "</style>\n",
              "<table border=\"1\" class=\"dataframe\">\n",
              "  <thead>\n",
              "    <tr style=\"text-align: right;\">\n",
              "      <th></th>\n",
              "      <th>Index</th>\n",
              "      <th>Height(Inches)</th>\n",
              "      <th>Weight(Pounds)</th>\n",
              "    </tr>\n",
              "  </thead>\n",
              "  <tbody>\n",
              "    <tr>\n",
              "      <th>0</th>\n",
              "      <td>1</td>\n",
              "      <td>65.78331</td>\n",
              "      <td>112.9925</td>\n",
              "    </tr>\n",
              "    <tr>\n",
              "      <th>1</th>\n",
              "      <td>2</td>\n",
              "      <td>71.51521</td>\n",
              "      <td>136.4873</td>\n",
              "    </tr>\n",
              "    <tr>\n",
              "      <th>2</th>\n",
              "      <td>3</td>\n",
              "      <td>69.39874</td>\n",
              "      <td>153.0269</td>\n",
              "    </tr>\n",
              "    <tr>\n",
              "      <th>3</th>\n",
              "      <td>4</td>\n",
              "      <td>68.21660</td>\n",
              "      <td>142.3354</td>\n",
              "    </tr>\n",
              "    <tr>\n",
              "      <th>4</th>\n",
              "      <td>5</td>\n",
              "      <td>67.78781</td>\n",
              "      <td>144.2971</td>\n",
              "    </tr>\n",
              "  </tbody>\n",
              "</table>\n",
              "</div>"
            ],
            "text/plain": [
              "   Index  Height(Inches)  Weight(Pounds)\n",
              "0      1        65.78331        112.9925\n",
              "1      2        71.51521        136.4873\n",
              "2      3        69.39874        153.0269\n",
              "3      4        68.21660        142.3354\n",
              "4      5        67.78781        144.2971"
            ]
          },
          "metadata": {
            "tags": []
          },
          "execution_count": 15
        }
      ]
    }
  ]
}