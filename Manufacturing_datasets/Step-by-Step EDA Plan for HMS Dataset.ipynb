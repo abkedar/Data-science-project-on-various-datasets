{
 "cells": [
  {
   "cell_type": "markdown",
   "id": "a3b46cf2-e530-4e00-b2db-f05f480d6502",
   "metadata": {},
   "source": [
    "# Exploratory Data Analysis (EDA) – Introduction\n",
    "\n",
    "Before applying advanced analytics or modeling, it's crucial to first **explore the structure, quality, and key patterns** in the dataset. This phase—known as **Exploratory Data Analysis (EDA)**—helps us understand the nature of the data and uncover meaningful insights that guide further analysis.\n",
    "\n",
    "The **Hybrid Manufacturing System (HMS)** dataset combines additive and subtractive manufacturing data, capturing information such as:\n",
    "\n",
    "- Machine and operation types\n",
    "- Material usage and energy consumption\n",
    "- Processing times and job statuses\n",
    "- Scheduled vs. actual start/end times\n",
    "- Optimization categories\n",
    "\n",
    "**During EDA, we:**\n",
    "- Review data types, missing values, and distributions\n",
    "- Analyze categorical variables (e.g., Machine_ID, Operation_Type)\n",
    "- Visualize numeric features (e.g., Processing Time, Energy)\n",
    "- Engineer new features like delays and durations\n",
    "- Identify potential correlations and trends\n",
    "\n",
    "This process provides a **foundational understanding** of the data and highlights patterns, anomalies, or relationships worth investigating through **hypothesis testing and modeling.**"
   ]
  },
  {
   "cell_type": "code",
   "execution_count": 1,
   "id": "2faa39fa-ee22-406f-8515-d57c4e6d60fd",
   "metadata": {},
   "outputs": [],
   "source": [
    "import numpy as np\n",
    "import pandas as pd\n",
    "import matplotlib.pyplot as plt\n",
    "import seaborn as sns"
   ]
  },
  {
   "cell_type": "code",
   "execution_count": 2,
   "id": "3006a1e1-96c1-44da-a389-7aeee54f8373",
   "metadata": {},
   "outputs": [
    {
     "data": {
      "text/html": [
       "<div>\n",
       "<style scoped>\n",
       "    .dataframe tbody tr th:only-of-type {\n",
       "        vertical-align: middle;\n",
       "    }\n",
       "\n",
       "    .dataframe tbody tr th {\n",
       "        vertical-align: top;\n",
       "    }\n",
       "\n",
       "    .dataframe thead th {\n",
       "        text-align: right;\n",
       "    }\n",
       "</style>\n",
       "<table border=\"1\" class=\"dataframe\">\n",
       "  <thead>\n",
       "    <tr style=\"text-align: right;\">\n",
       "      <th></th>\n",
       "      <th>Job_ID</th>\n",
       "      <th>Machine_ID</th>\n",
       "      <th>Operation_Type</th>\n",
       "      <th>Material_Used</th>\n",
       "      <th>Processing_Time</th>\n",
       "      <th>Energy_Consumption</th>\n",
       "      <th>Machine_Availability</th>\n",
       "      <th>Scheduled_Start</th>\n",
       "      <th>Scheduled_End</th>\n",
       "      <th>Actual_Start</th>\n",
       "      <th>Actual_End</th>\n",
       "      <th>Job_Status</th>\n",
       "      <th>Optimization_Category</th>\n",
       "    </tr>\n",
       "  </thead>\n",
       "  <tbody>\n",
       "    <tr>\n",
       "      <th>0</th>\n",
       "      <td>J001</td>\n",
       "      <td>M01</td>\n",
       "      <td>Grinding</td>\n",
       "      <td>3.17</td>\n",
       "      <td>76</td>\n",
       "      <td>11.42</td>\n",
       "      <td>96</td>\n",
       "      <td>2023-03-18 08:00:00</td>\n",
       "      <td>2023-03-18 09:16:00</td>\n",
       "      <td>2023-03-18 08:05:00</td>\n",
       "      <td>2023-03-18 09:21:00</td>\n",
       "      <td>Completed</td>\n",
       "      <td>Moderate Efficiency</td>\n",
       "    </tr>\n",
       "    <tr>\n",
       "      <th>1</th>\n",
       "      <td>J002</td>\n",
       "      <td>M01</td>\n",
       "      <td>Grinding</td>\n",
       "      <td>3.35</td>\n",
       "      <td>79</td>\n",
       "      <td>6.61</td>\n",
       "      <td>84</td>\n",
       "      <td>2023-03-18 08:10:00</td>\n",
       "      <td>2023-03-18 09:29:00</td>\n",
       "      <td>2023-03-18 08:20:00</td>\n",
       "      <td>2023-03-18 09:39:00</td>\n",
       "      <td>Delayed</td>\n",
       "      <td>Low Efficiency</td>\n",
       "    </tr>\n",
       "    <tr>\n",
       "      <th>2</th>\n",
       "      <td>J003</td>\n",
       "      <td>M04</td>\n",
       "      <td>Additive</td>\n",
       "      <td>2.29</td>\n",
       "      <td>56</td>\n",
       "      <td>11.11</td>\n",
       "      <td>92</td>\n",
       "      <td>2023-03-18 08:20:00</td>\n",
       "      <td>2023-03-18 09:16:00</td>\n",
       "      <td>NaN</td>\n",
       "      <td>NaN</td>\n",
       "      <td>Failed</td>\n",
       "      <td>Low Efficiency</td>\n",
       "    </tr>\n",
       "    <tr>\n",
       "      <th>3</th>\n",
       "      <td>J004</td>\n",
       "      <td>M04</td>\n",
       "      <td>Grinding</td>\n",
       "      <td>1.76</td>\n",
       "      <td>106</td>\n",
       "      <td>12.50</td>\n",
       "      <td>95</td>\n",
       "      <td>2023-03-18 08:30:00</td>\n",
       "      <td>2023-03-18 10:16:00</td>\n",
       "      <td>2023-03-18 08:35:00</td>\n",
       "      <td>2023-03-18 10:21:00</td>\n",
       "      <td>Completed</td>\n",
       "      <td>Moderate Efficiency</td>\n",
       "    </tr>\n",
       "    <tr>\n",
       "      <th>4</th>\n",
       "      <td>J005</td>\n",
       "      <td>M01</td>\n",
       "      <td>Lathe</td>\n",
       "      <td>1.90</td>\n",
       "      <td>46</td>\n",
       "      <td>8.13</td>\n",
       "      <td>88</td>\n",
       "      <td>2023-03-18 08:40:00</td>\n",
       "      <td>2023-03-18 09:26:00</td>\n",
       "      <td>2023-03-18 08:42:00</td>\n",
       "      <td>2023-03-18 09:28:00</td>\n",
       "      <td>Completed</td>\n",
       "      <td>High Efficiency</td>\n",
       "    </tr>\n",
       "  </tbody>\n",
       "</table>\n",
       "</div>"
      ],
      "text/plain": [
       "  Job_ID Machine_ID Operation_Type  Material_Used  Processing_Time  \\\n",
       "0   J001        M01       Grinding           3.17               76   \n",
       "1   J002        M01       Grinding           3.35               79   \n",
       "2   J003        M04       Additive           2.29               56   \n",
       "3   J004        M04       Grinding           1.76              106   \n",
       "4   J005        M01          Lathe           1.90               46   \n",
       "\n",
       "   Energy_Consumption  Machine_Availability      Scheduled_Start  \\\n",
       "0               11.42                    96  2023-03-18 08:00:00   \n",
       "1                6.61                    84  2023-03-18 08:10:00   \n",
       "2               11.11                    92  2023-03-18 08:20:00   \n",
       "3               12.50                    95  2023-03-18 08:30:00   \n",
       "4                8.13                    88  2023-03-18 08:40:00   \n",
       "\n",
       "         Scheduled_End         Actual_Start           Actual_End Job_Status  \\\n",
       "0  2023-03-18 09:16:00  2023-03-18 08:05:00  2023-03-18 09:21:00  Completed   \n",
       "1  2023-03-18 09:29:00  2023-03-18 08:20:00  2023-03-18 09:39:00    Delayed   \n",
       "2  2023-03-18 09:16:00                  NaN                  NaN     Failed   \n",
       "3  2023-03-18 10:16:00  2023-03-18 08:35:00  2023-03-18 10:21:00  Completed   \n",
       "4  2023-03-18 09:26:00  2023-03-18 08:42:00  2023-03-18 09:28:00  Completed   \n",
       "\n",
       "  Optimization_Category  \n",
       "0   Moderate Efficiency  \n",
       "1        Low Efficiency  \n",
       "2        Low Efficiency  \n",
       "3   Moderate Efficiency  \n",
       "4       High Efficiency  "
      ]
     },
     "execution_count": 2,
     "metadata": {},
     "output_type": "execute_result"
    }
   ],
   "source": [
    "df = pd.read_csv(\"hybrid_manufacturing_categorical.csv\")\n",
    "df.head()"
   ]
  },
  {
   "cell_type": "code",
   "execution_count": 3,
   "id": "3cc13142-f088-4e4e-a67e-572ab60026c9",
   "metadata": {},
   "outputs": [
    {
     "data": {
      "text/plain": [
       "Index(['Job_ID', 'Machine_ID', 'Operation_Type', 'Material_Used',\n",
       "       'Processing_Time', 'Energy_Consumption', 'Machine_Availability',\n",
       "       'Scheduled_Start', 'Scheduled_End', 'Actual_Start', 'Actual_End',\n",
       "       'Job_Status', 'Optimization_Category'],\n",
       "      dtype='object')"
      ]
     },
     "execution_count": 3,
     "metadata": {},
     "output_type": "execute_result"
    }
   ],
   "source": [
    "df.columns"
   ]
  },
  {
   "cell_type": "markdown",
   "id": "0ab7f8ba-68e6-4fa8-945d-76f126060788",
   "metadata": {},
   "source": [
    "### Initial Data Overview"
   ]
  },
  {
   "cell_type": "code",
   "execution_count": 4,
   "id": "9f07d85c-eb34-4591-8bec-127d2a87d3fb",
   "metadata": {},
   "outputs": [
    {
     "name": "stdout",
     "output_type": "stream",
     "text": [
      "<class 'pandas.core.frame.DataFrame'>\n",
      "RangeIndex: 1000 entries, 0 to 999\n",
      "Data columns (total 13 columns):\n",
      " #   Column                 Non-Null Count  Dtype  \n",
      "---  ------                 --------------  -----  \n",
      " 0   Job_ID                 1000 non-null   object \n",
      " 1   Machine_ID             1000 non-null   object \n",
      " 2   Operation_Type         1000 non-null   object \n",
      " 3   Material_Used          1000 non-null   float64\n",
      " 4   Processing_Time        1000 non-null   int64  \n",
      " 5   Energy_Consumption     1000 non-null   float64\n",
      " 6   Machine_Availability   1000 non-null   int64  \n",
      " 7   Scheduled_Start        1000 non-null   object \n",
      " 8   Scheduled_End          1000 non-null   object \n",
      " 9   Actual_Start           871 non-null    object \n",
      " 10  Actual_End             871 non-null    object \n",
      " 11  Job_Status             1000 non-null   object \n",
      " 12  Optimization_Category  1000 non-null   object \n",
      "dtypes: float64(2), int64(2), object(9)\n",
      "memory usage: 101.7+ KB\n"
     ]
    }
   ],
   "source": [
    "df.info()"
   ]
  },
  {
   "cell_type": "code",
   "execution_count": 11,
   "id": "c1c17d93-e7c4-4b88-92dd-416443d4161d",
   "metadata": {},
   "outputs": [
    {
     "data": {
      "text/plain": [
       "(1000, 13)"
      ]
     },
     "execution_count": 11,
     "metadata": {},
     "output_type": "execute_result"
    }
   ],
   "source": [
    "# Shape of data\n",
    "df.shape[0], df.shape[1]"
   ]
  },
  {
   "cell_type": "code",
   "execution_count": 12,
   "id": "d9422eb6-7ec3-4b0e-8f21-24c3eee25774",
   "metadata": {},
   "outputs": [
    {
     "data": {
      "text/html": [
       "<div>\n",
       "<style scoped>\n",
       "    .dataframe tbody tr th:only-of-type {\n",
       "        vertical-align: middle;\n",
       "    }\n",
       "\n",
       "    .dataframe tbody tr th {\n",
       "        vertical-align: top;\n",
       "    }\n",
       "\n",
       "    .dataframe thead th {\n",
       "        text-align: right;\n",
       "    }\n",
       "</style>\n",
       "<table border=\"1\" class=\"dataframe\">\n",
       "  <thead>\n",
       "    <tr style=\"text-align: right;\">\n",
       "      <th></th>\n",
       "      <th>Job_ID</th>\n",
       "      <th>Machine_ID</th>\n",
       "      <th>Operation_Type</th>\n",
       "      <th>Material_Used</th>\n",
       "      <th>Processing_Time</th>\n",
       "      <th>Energy_Consumption</th>\n",
       "      <th>Machine_Availability</th>\n",
       "      <th>Scheduled_Start</th>\n",
       "      <th>Scheduled_End</th>\n",
       "      <th>Actual_Start</th>\n",
       "      <th>Actual_End</th>\n",
       "      <th>Job_Status</th>\n",
       "      <th>Optimization_Category</th>\n",
       "    </tr>\n",
       "  </thead>\n",
       "  <tbody>\n",
       "    <tr>\n",
       "      <th>count</th>\n",
       "      <td>1000</td>\n",
       "      <td>1000</td>\n",
       "      <td>1000</td>\n",
       "      <td>1000.000000</td>\n",
       "      <td>1000.00000</td>\n",
       "      <td>1000.000000</td>\n",
       "      <td>1000.000000</td>\n",
       "      <td>1000</td>\n",
       "      <td>1000</td>\n",
       "      <td>871</td>\n",
       "      <td>871</td>\n",
       "      <td>1000</td>\n",
       "      <td>1000</td>\n",
       "    </tr>\n",
       "    <tr>\n",
       "      <th>unique</th>\n",
       "      <td>1000</td>\n",
       "      <td>5</td>\n",
       "      <td>5</td>\n",
       "      <td>NaN</td>\n",
       "      <td>NaN</td>\n",
       "      <td>NaN</td>\n",
       "      <td>NaN</td>\n",
       "      <td>NaN</td>\n",
       "      <td>NaN</td>\n",
       "      <td>NaN</td>\n",
       "      <td>NaN</td>\n",
       "      <td>3</td>\n",
       "      <td>4</td>\n",
       "    </tr>\n",
       "    <tr>\n",
       "      <th>top</th>\n",
       "      <td>J1000</td>\n",
       "      <td>M01</td>\n",
       "      <td>Lathe</td>\n",
       "      <td>NaN</td>\n",
       "      <td>NaN</td>\n",
       "      <td>NaN</td>\n",
       "      <td>NaN</td>\n",
       "      <td>NaN</td>\n",
       "      <td>NaN</td>\n",
       "      <td>NaN</td>\n",
       "      <td>NaN</td>\n",
       "      <td>Completed</td>\n",
       "      <td>Low Efficiency</td>\n",
       "    </tr>\n",
       "    <tr>\n",
       "      <th>freq</th>\n",
       "      <td>1</td>\n",
       "      <td>212</td>\n",
       "      <td>212</td>\n",
       "      <td>NaN</td>\n",
       "      <td>NaN</td>\n",
       "      <td>NaN</td>\n",
       "      <td>NaN</td>\n",
       "      <td>NaN</td>\n",
       "      <td>NaN</td>\n",
       "      <td>NaN</td>\n",
       "      <td>NaN</td>\n",
       "      <td>673</td>\n",
       "      <td>650</td>\n",
       "    </tr>\n",
       "    <tr>\n",
       "      <th>mean</th>\n",
       "      <td>NaN</td>\n",
       "      <td>NaN</td>\n",
       "      <td>NaN</td>\n",
       "      <td>3.026480</td>\n",
       "      <td>71.38400</td>\n",
       "      <td>8.521340</td>\n",
       "      <td>89.163000</td>\n",
       "      <td>2023-03-21 19:15:00</td>\n",
       "      <td>2023-03-21 20:26:23.040000</td>\n",
       "      <td>2023-03-21 18:59:49.047072512</td>\n",
       "      <td>2023-03-21 20:11:07.990814976</td>\n",
       "      <td>NaN</td>\n",
       "      <td>NaN</td>\n",
       "    </tr>\n",
       "    <tr>\n",
       "      <th>min</th>\n",
       "      <td>NaN</td>\n",
       "      <td>NaN</td>\n",
       "      <td>NaN</td>\n",
       "      <td>1.010000</td>\n",
       "      <td>20.00000</td>\n",
       "      <td>2.010000</td>\n",
       "      <td>80.000000</td>\n",
       "      <td>2023-03-18 08:00:00</td>\n",
       "      <td>2023-03-18 09:16:00</td>\n",
       "      <td>2023-03-18 08:05:00</td>\n",
       "      <td>2023-03-18 09:21:00</td>\n",
       "      <td>NaN</td>\n",
       "      <td>NaN</td>\n",
       "    </tr>\n",
       "    <tr>\n",
       "      <th>25%</th>\n",
       "      <td>NaN</td>\n",
       "      <td>NaN</td>\n",
       "      <td>NaN</td>\n",
       "      <td>2.040000</td>\n",
       "      <td>48.00000</td>\n",
       "      <td>5.397500</td>\n",
       "      <td>84.000000</td>\n",
       "      <td>2023-03-20 01:37:30</td>\n",
       "      <td>2023-03-20 02:27:45</td>\n",
       "      <td>2023-03-20 01:41:30</td>\n",
       "      <td>2023-03-20 02:35:30</td>\n",
       "      <td>NaN</td>\n",
       "      <td>NaN</td>\n",
       "    </tr>\n",
       "    <tr>\n",
       "      <th>50%</th>\n",
       "      <td>NaN</td>\n",
       "      <td>NaN</td>\n",
       "      <td>NaN</td>\n",
       "      <td>3.080000</td>\n",
       "      <td>72.00000</td>\n",
       "      <td>8.560000</td>\n",
       "      <td>89.000000</td>\n",
       "      <td>2023-03-21 19:15:00</td>\n",
       "      <td>2023-03-21 20:18:00</td>\n",
       "      <td>2023-03-21 17:52:00</td>\n",
       "      <td>2023-03-21 19:04:00</td>\n",
       "      <td>NaN</td>\n",
       "      <td>NaN</td>\n",
       "    </tr>\n",
       "    <tr>\n",
       "      <th>75%</th>\n",
       "      <td>NaN</td>\n",
       "      <td>NaN</td>\n",
       "      <td>NaN</td>\n",
       "      <td>4.042500</td>\n",
       "      <td>96.00000</td>\n",
       "      <td>11.672500</td>\n",
       "      <td>94.000000</td>\n",
       "      <td>2023-03-23 12:52:30</td>\n",
       "      <td>2023-03-23 14:05:30</td>\n",
       "      <td>2023-03-23 12:54:30</td>\n",
       "      <td>2023-03-23 14:12:00</td>\n",
       "      <td>NaN</td>\n",
       "      <td>NaN</td>\n",
       "    </tr>\n",
       "    <tr>\n",
       "      <th>max</th>\n",
       "      <td>NaN</td>\n",
       "      <td>NaN</td>\n",
       "      <td>NaN</td>\n",
       "      <td>5.000000</td>\n",
       "      <td>120.00000</td>\n",
       "      <td>14.980000</td>\n",
       "      <td>99.000000</td>\n",
       "      <td>2023-03-25 06:30:00</td>\n",
       "      <td>2023-03-25 08:21:00</td>\n",
       "      <td>2023-03-25 06:29:00</td>\n",
       "      <td>2023-03-25 08:20:00</td>\n",
       "      <td>NaN</td>\n",
       "      <td>NaN</td>\n",
       "    </tr>\n",
       "    <tr>\n",
       "      <th>std</th>\n",
       "      <td>NaN</td>\n",
       "      <td>NaN</td>\n",
       "      <td>NaN</td>\n",
       "      <td>1.148139</td>\n",
       "      <td>28.48438</td>\n",
       "      <td>3.669941</td>\n",
       "      <td>5.757567</td>\n",
       "      <td>NaN</td>\n",
       "      <td>NaN</td>\n",
       "      <td>NaN</td>\n",
       "      <td>NaN</td>\n",
       "      <td>NaN</td>\n",
       "      <td>NaN</td>\n",
       "    </tr>\n",
       "  </tbody>\n",
       "</table>\n",
       "</div>"
      ],
      "text/plain": [
       "       Job_ID Machine_ID Operation_Type  Material_Used  Processing_Time  \\\n",
       "count    1000       1000           1000    1000.000000       1000.00000   \n",
       "unique   1000          5              5            NaN              NaN   \n",
       "top     J1000        M01          Lathe            NaN              NaN   \n",
       "freq        1        212            212            NaN              NaN   \n",
       "mean      NaN        NaN            NaN       3.026480         71.38400   \n",
       "min       NaN        NaN            NaN       1.010000         20.00000   \n",
       "25%       NaN        NaN            NaN       2.040000         48.00000   \n",
       "50%       NaN        NaN            NaN       3.080000         72.00000   \n",
       "75%       NaN        NaN            NaN       4.042500         96.00000   \n",
       "max       NaN        NaN            NaN       5.000000        120.00000   \n",
       "std       NaN        NaN            NaN       1.148139         28.48438   \n",
       "\n",
       "        Energy_Consumption  Machine_Availability      Scheduled_Start  \\\n",
       "count          1000.000000           1000.000000                 1000   \n",
       "unique                 NaN                   NaN                  NaN   \n",
       "top                    NaN                   NaN                  NaN   \n",
       "freq                   NaN                   NaN                  NaN   \n",
       "mean              8.521340             89.163000  2023-03-21 19:15:00   \n",
       "min               2.010000             80.000000  2023-03-18 08:00:00   \n",
       "25%               5.397500             84.000000  2023-03-20 01:37:30   \n",
       "50%               8.560000             89.000000  2023-03-21 19:15:00   \n",
       "75%              11.672500             94.000000  2023-03-23 12:52:30   \n",
       "max              14.980000             99.000000  2023-03-25 06:30:00   \n",
       "std               3.669941              5.757567                  NaN   \n",
       "\n",
       "                     Scheduled_End                   Actual_Start  \\\n",
       "count                         1000                            871   \n",
       "unique                         NaN                            NaN   \n",
       "top                            NaN                            NaN   \n",
       "freq                           NaN                            NaN   \n",
       "mean    2023-03-21 20:26:23.040000  2023-03-21 18:59:49.047072512   \n",
       "min            2023-03-18 09:16:00            2023-03-18 08:05:00   \n",
       "25%            2023-03-20 02:27:45            2023-03-20 01:41:30   \n",
       "50%            2023-03-21 20:18:00            2023-03-21 17:52:00   \n",
       "75%            2023-03-23 14:05:30            2023-03-23 12:54:30   \n",
       "max            2023-03-25 08:21:00            2023-03-25 06:29:00   \n",
       "std                            NaN                            NaN   \n",
       "\n",
       "                           Actual_End Job_Status Optimization_Category  \n",
       "count                             871       1000                  1000  \n",
       "unique                            NaN          3                     4  \n",
       "top                               NaN  Completed        Low Efficiency  \n",
       "freq                              NaN        673                   650  \n",
       "mean    2023-03-21 20:11:07.990814976        NaN                   NaN  \n",
       "min               2023-03-18 09:21:00        NaN                   NaN  \n",
       "25%               2023-03-20 02:35:30        NaN                   NaN  \n",
       "50%               2023-03-21 19:04:00        NaN                   NaN  \n",
       "75%               2023-03-23 14:12:00        NaN                   NaN  \n",
       "max               2023-03-25 08:20:00        NaN                   NaN  \n",
       "std                               NaN        NaN                   NaN  "
      ]
     },
     "execution_count": 12,
     "metadata": {},
     "output_type": "execute_result"
    }
   ],
   "source": [
    "# Summary statistics\n",
    "df.describe(include='all')"
   ]
  },
  {
   "cell_type": "code",
   "execution_count": 13,
   "id": "9c2406d9-07c5-4ee5-bc69-7ea78ff18e9f",
   "metadata": {},
   "outputs": [
    {
     "data": {
      "text/plain": [
       "Job_ID                     0\n",
       "Machine_ID                 0\n",
       "Operation_Type             0\n",
       "Material_Used              0\n",
       "Processing_Time            0\n",
       "Energy_Consumption         0\n",
       "Machine_Availability       0\n",
       "Scheduled_Start            0\n",
       "Scheduled_End              0\n",
       "Actual_Start             129\n",
       "Actual_End               129\n",
       "Job_Status                 0\n",
       "Optimization_Category      0\n",
       "dtype: int64"
      ]
     },
     "execution_count": 13,
     "metadata": {},
     "output_type": "execute_result"
    }
   ],
   "source": [
    "# Check for missing values\n",
    "df.isnull().sum()"
   ]
  },
  {
   "cell_type": "code",
   "execution_count": 7,
   "id": "5a8fb5f9-1c63-49a6-96a7-0196bd80d458",
   "metadata": {},
   "outputs": [
    {
     "data": {
      "text/plain": [
       "Job_ID                    object\n",
       "Machine_ID                object\n",
       "Operation_Type            object\n",
       "Material_Used            float64\n",
       "Processing_Time            int64\n",
       "Energy_Consumption       float64\n",
       "Machine_Availability       int64\n",
       "Scheduled_Start           object\n",
       "Scheduled_End             object\n",
       "Actual_Start              object\n",
       "Actual_End                object\n",
       "Job_Status                object\n",
       "Optimization_Category     object\n",
       "dtype: object"
      ]
     },
     "execution_count": 7,
     "metadata": {},
     "output_type": "execute_result"
    }
   ],
   "source": [
    "df.dtypes"
   ]
  },
  {
   "cell_type": "code",
   "execution_count": 18,
   "id": "e6dad3f3-f4d4-46cf-aa53-8cecce178d72",
   "metadata": {},
   "outputs": [
    {
     "data": {
      "text/plain": [
       "Machine_ID\n",
       "M01    212\n",
       "M02    210\n",
       "M04    199\n",
       "M05    193\n",
       "M03    186\n",
       "Name: count, dtype: int64"
      ]
     },
     "execution_count": 18,
     "metadata": {},
     "output_type": "execute_result"
    }
   ],
   "source": [
    "df['Machine_ID'].value_counts()"
   ]
  },
  {
   "cell_type": "code",
   "execution_count": 19,
   "id": "c8bd4a1d-1a0f-4d87-ad6b-5db5ed117bde",
   "metadata": {},
   "outputs": [
    {
     "data": {
      "text/plain": [
       "Operation_Type\n",
       "Lathe       212\n",
       "Grinding    208\n",
       "Milling     201\n",
       "Additive    190\n",
       "Drilling    189\n",
       "Name: count, dtype: int64"
      ]
     },
     "execution_count": 19,
     "metadata": {},
     "output_type": "execute_result"
    }
   ],
   "source": [
    "df['Operation_Type'].value_counts()"
   ]
  },
  {
   "cell_type": "code",
   "execution_count": 20,
   "id": "59958224-9260-44b8-9129-4edd04a25c9d",
   "metadata": {},
   "outputs": [
    {
     "data": {
      "text/plain": [
       "Job_Status\n",
       "Completed    673\n",
       "Delayed      198\n",
       "Failed       129\n",
       "Name: count, dtype: int64"
      ]
     },
     "execution_count": 20,
     "metadata": {},
     "output_type": "execute_result"
    }
   ],
   "source": [
    "df['Job_Status'].value_counts()"
   ]
  },
  {
   "cell_type": "code",
   "execution_count": 21,
   "id": "68b8a1fe-a051-49a0-abbb-ba299e0ff807",
   "metadata": {},
   "outputs": [
    {
     "data": {
      "text/plain": [
       "Optimization_Category\n",
       "Low Efficiency         650\n",
       "Moderate Efficiency    183\n",
       "High Efficiency        161\n",
       "Optimal Efficiency       6\n",
       "Name: count, dtype: int64"
      ]
     },
     "execution_count": 21,
     "metadata": {},
     "output_type": "execute_result"
    }
   ],
   "source": [
    "df['Optimization_Category'].value_counts()"
   ]
  },
  {
   "cell_type": "code",
   "execution_count": 22,
   "id": "1033455f-40b1-40cf-b66b-f81b2f215514",
   "metadata": {},
   "outputs": [
    {
     "data": {
      "text/plain": [
       "Material_Used\n",
       "4.02    8\n",
       "2.77    7\n",
       "3.36    7\n",
       "1.73    7\n",
       "3.22    7\n",
       "       ..\n",
       "3.98    1\n",
       "1.88    1\n",
       "4.23    1\n",
       "1.89    1\n",
       "1.31    1\n",
       "Name: count, Length: 362, dtype: int64"
      ]
     },
     "execution_count": 22,
     "metadata": {},
     "output_type": "execute_result"
    }
   ],
   "source": [
    "df['Material_Used'].value_counts()"
   ]
  },
  {
   "cell_type": "markdown",
   "id": "a841a8c3-a52d-431c-80d6-6324b7004d63",
   "metadata": {},
   "source": [
    "# Data Preparation"
   ]
  },
  {
   "cell_type": "markdown",
   "id": "27ffb0f2-6af9-47e6-8728-257e0ef62e4a",
   "metadata": {},
   "source": [
    "### Change Data Types"
   ]
  },
  {
   "cell_type": "code",
   "execution_count": 8,
   "id": "7eac54d0-d291-4f3a-89fb-6e003dea8540",
   "metadata": {},
   "outputs": [],
   "source": [
    "# Convert relevant columns to datetime\n",
    "datetime_cols = ['Scheduled_Start', 'Scheduled_End', 'Actual_Start', 'Actual_End']\n",
    "\n",
    "for col in datetime_cols:\n",
    "    df[col] = pd.to_datetime(df[col], errors='coerce')  # Invalid values will be set as NaT"
   ]
  },
  {
   "cell_type": "code",
   "execution_count": 9,
   "id": "6170b841-fd3e-4357-8858-7da20e1ed469",
   "metadata": {},
   "outputs": [
    {
     "data": {
      "text/plain": [
       "Job_ID                           object\n",
       "Machine_ID                       object\n",
       "Operation_Type                   object\n",
       "Material_Used                   float64\n",
       "Processing_Time                   int64\n",
       "Energy_Consumption              float64\n",
       "Machine_Availability              int64\n",
       "Scheduled_Start          datetime64[ns]\n",
       "Scheduled_End            datetime64[ns]\n",
       "Actual_Start             datetime64[ns]\n",
       "Actual_End               datetime64[ns]\n",
       "Job_Status                       object\n",
       "Optimization_Category            object\n",
       "dtype: object"
      ]
     },
     "execution_count": 9,
     "metadata": {},
     "output_type": "execute_result"
    }
   ],
   "source": [
    "df.dtypes"
   ]
  },
  {
   "cell_type": "code",
   "execution_count": 10,
   "id": "74a93151-928c-4545-8d88-80c90c7f86b6",
   "metadata": {},
   "outputs": [
    {
     "data": {
      "text/html": [
       "<div>\n",
       "<style scoped>\n",
       "    .dataframe tbody tr th:only-of-type {\n",
       "        vertical-align: middle;\n",
       "    }\n",
       "\n",
       "    .dataframe tbody tr th {\n",
       "        vertical-align: top;\n",
       "    }\n",
       "\n",
       "    .dataframe thead th {\n",
       "        text-align: right;\n",
       "    }\n",
       "</style>\n",
       "<table border=\"1\" class=\"dataframe\">\n",
       "  <thead>\n",
       "    <tr style=\"text-align: right;\">\n",
       "      <th></th>\n",
       "      <th>Job_ID</th>\n",
       "      <th>Machine_ID</th>\n",
       "      <th>Operation_Type</th>\n",
       "      <th>Material_Used</th>\n",
       "      <th>Processing_Time</th>\n",
       "      <th>Energy_Consumption</th>\n",
       "      <th>Machine_Availability</th>\n",
       "      <th>Scheduled_Start</th>\n",
       "      <th>Scheduled_End</th>\n",
       "      <th>Actual_Start</th>\n",
       "      <th>Actual_End</th>\n",
       "      <th>Job_Status</th>\n",
       "      <th>Optimization_Category</th>\n",
       "    </tr>\n",
       "  </thead>\n",
       "  <tbody>\n",
       "    <tr>\n",
       "      <th>0</th>\n",
       "      <td>J001</td>\n",
       "      <td>M01</td>\n",
       "      <td>Grinding</td>\n",
       "      <td>3.17</td>\n",
       "      <td>76</td>\n",
       "      <td>11.42</td>\n",
       "      <td>96</td>\n",
       "      <td>2023-03-18 08:00:00</td>\n",
       "      <td>2023-03-18 09:16:00</td>\n",
       "      <td>2023-03-18 08:05:00</td>\n",
       "      <td>2023-03-18 09:21:00</td>\n",
       "      <td>Completed</td>\n",
       "      <td>Moderate Efficiency</td>\n",
       "    </tr>\n",
       "    <tr>\n",
       "      <th>1</th>\n",
       "      <td>J002</td>\n",
       "      <td>M01</td>\n",
       "      <td>Grinding</td>\n",
       "      <td>3.35</td>\n",
       "      <td>79</td>\n",
       "      <td>6.61</td>\n",
       "      <td>84</td>\n",
       "      <td>2023-03-18 08:10:00</td>\n",
       "      <td>2023-03-18 09:29:00</td>\n",
       "      <td>2023-03-18 08:20:00</td>\n",
       "      <td>2023-03-18 09:39:00</td>\n",
       "      <td>Delayed</td>\n",
       "      <td>Low Efficiency</td>\n",
       "    </tr>\n",
       "    <tr>\n",
       "      <th>2</th>\n",
       "      <td>J003</td>\n",
       "      <td>M04</td>\n",
       "      <td>Additive</td>\n",
       "      <td>2.29</td>\n",
       "      <td>56</td>\n",
       "      <td>11.11</td>\n",
       "      <td>92</td>\n",
       "      <td>2023-03-18 08:20:00</td>\n",
       "      <td>2023-03-18 09:16:00</td>\n",
       "      <td>NaT</td>\n",
       "      <td>NaT</td>\n",
       "      <td>Failed</td>\n",
       "      <td>Low Efficiency</td>\n",
       "    </tr>\n",
       "    <tr>\n",
       "      <th>3</th>\n",
       "      <td>J004</td>\n",
       "      <td>M04</td>\n",
       "      <td>Grinding</td>\n",
       "      <td>1.76</td>\n",
       "      <td>106</td>\n",
       "      <td>12.50</td>\n",
       "      <td>95</td>\n",
       "      <td>2023-03-18 08:30:00</td>\n",
       "      <td>2023-03-18 10:16:00</td>\n",
       "      <td>2023-03-18 08:35:00</td>\n",
       "      <td>2023-03-18 10:21:00</td>\n",
       "      <td>Completed</td>\n",
       "      <td>Moderate Efficiency</td>\n",
       "    </tr>\n",
       "    <tr>\n",
       "      <th>4</th>\n",
       "      <td>J005</td>\n",
       "      <td>M01</td>\n",
       "      <td>Lathe</td>\n",
       "      <td>1.90</td>\n",
       "      <td>46</td>\n",
       "      <td>8.13</td>\n",
       "      <td>88</td>\n",
       "      <td>2023-03-18 08:40:00</td>\n",
       "      <td>2023-03-18 09:26:00</td>\n",
       "      <td>2023-03-18 08:42:00</td>\n",
       "      <td>2023-03-18 09:28:00</td>\n",
       "      <td>Completed</td>\n",
       "      <td>High Efficiency</td>\n",
       "    </tr>\n",
       "  </tbody>\n",
       "</table>\n",
       "</div>"
      ],
      "text/plain": [
       "  Job_ID Machine_ID Operation_Type  Material_Used  Processing_Time  \\\n",
       "0   J001        M01       Grinding           3.17               76   \n",
       "1   J002        M01       Grinding           3.35               79   \n",
       "2   J003        M04       Additive           2.29               56   \n",
       "3   J004        M04       Grinding           1.76              106   \n",
       "4   J005        M01          Lathe           1.90               46   \n",
       "\n",
       "   Energy_Consumption  Machine_Availability     Scheduled_Start  \\\n",
       "0               11.42                    96 2023-03-18 08:00:00   \n",
       "1                6.61                    84 2023-03-18 08:10:00   \n",
       "2               11.11                    92 2023-03-18 08:20:00   \n",
       "3               12.50                    95 2023-03-18 08:30:00   \n",
       "4                8.13                    88 2023-03-18 08:40:00   \n",
       "\n",
       "        Scheduled_End        Actual_Start          Actual_End Job_Status  \\\n",
       "0 2023-03-18 09:16:00 2023-03-18 08:05:00 2023-03-18 09:21:00  Completed   \n",
       "1 2023-03-18 09:29:00 2023-03-18 08:20:00 2023-03-18 09:39:00    Delayed   \n",
       "2 2023-03-18 09:16:00                 NaT                 NaT     Failed   \n",
       "3 2023-03-18 10:16:00 2023-03-18 08:35:00 2023-03-18 10:21:00  Completed   \n",
       "4 2023-03-18 09:26:00 2023-03-18 08:42:00 2023-03-18 09:28:00  Completed   \n",
       "\n",
       "  Optimization_Category  \n",
       "0   Moderate Efficiency  \n",
       "1        Low Efficiency  \n",
       "2        Low Efficiency  \n",
       "3   Moderate Efficiency  \n",
       "4       High Efficiency  "
      ]
     },
     "execution_count": 10,
     "metadata": {},
     "output_type": "execute_result"
    }
   ],
   "source": [
    "df.head()"
   ]
  },
  {
   "cell_type": "markdown",
   "id": "9c1d599f-d082-4136-bfa6-e6c1c07b40b7",
   "metadata": {},
   "source": [
    "## EDA"
   ]
  },
  {
   "cell_type": "markdown",
   "id": "12384f05-12dc-46c1-87ff-48d3a8100df0",
   "metadata": {},
   "source": [
    "### Univariate Plots"
   ]
  },
  {
   "cell_type": "code",
   "execution_count": 23,
   "id": "3bc723ef-a624-47dc-8c78-54fb5a24e022",
   "metadata": {},
   "outputs": [
    {
     "data": {
      "image/png": "[encoded data removed]",
      "text/plain": [
       "<Figure size 640x480 with 1 Axes>"
      ]
     },
     "metadata": {},
     "output_type": "display_data"
    },
    {
     "data": {
      "image/png": "[encoded data removed]",
      "text/plain": [
       "<Figure size 640x480 with 1 Axes>"
      ]
     },
     "metadata": {},
     "output_type": "display_data"
    },
    {
     "data": {
      "image/png": "[encoded data removed]",
      "text/plain": [
       "<Figure size 640x480 with 1 Axes>"
      ]
     },
     "metadata": {},
     "output_type": "display_data"
    },
    {
     "data": {
      "image/png": "[encoded data removed]",
      "text/plain": [
       "<Figure size 640x480 with 1 Axes>"
      ]
     },
     "metadata": {},
     "output_type": "display_data"
    }
   ],
   "source": [
    "# Numeric distributions\n",
    "df['Processing_Time'].plot(kind='hist', bins=20, title='Processing Time Distribution')\n",
    "plt.show()\n",
    "\n",
    "df['Energy_Consumption'].plot(kind='box', title='Energy Consumption Boxplot')\n",
    "plt.show()\n",
    "\n",
    "# Bar plot for categorical\n",
    "sns.countplot(data=df, x='Machine_ID')\n",
    "plt.title('Jobs per Machine')\n",
    "plt.show()\n",
    "\n",
    "sns.countplot(data=df, x='Operation_Type')\n",
    "plt.title('Operation Type Distribution')\n",
    "plt.show()"
   ]
  },
  {
   "cell_type": "markdown",
   "id": "3a5a6de6-31a3-4d05-9899-05a0919b418f",
   "metadata": {},
   "source": [
    "### Time Features"
   ]
  },
  {
   "cell_type": "code",
   "execution_count": 24,
   "id": "e3e575b5-b5c4-49ca-9cc9-95cad0f64dd8",
   "metadata": {},
   "outputs": [],
   "source": [
    "# Create delay & duration columns\n",
    "df['Delay_Minutes'] = (df['Actual_End'] - df['Scheduled_End']).dt.total_seconds() / 60\n",
    "df['Scheduled_Duration'] = (df['Scheduled_End'] - df['Scheduled_Start']).dt.total_seconds() / 60\n",
    "df['Actual_Duration'] = (df['Actual_End'] - df['Actual_Start']).dt.total_seconds() / 60"
   ]
  },
  {
   "cell_type": "markdown",
   "id": "8c02f791-4593-4f94-a4f3-539489e1d331",
   "metadata": {},
   "source": [
    "### Correlation & Pairwise Analysis"
   ]
  },
  {
   "cell_type": "code",
   "execution_count": 25,
   "id": "cc97d8a7-5f49-40e5-a5fd-d486d2a4a29f",
   "metadata": {},
   "outputs": [
    {
     "data": {
      "image/png": "[encoded data removed]",
      "text/plain": [
       "<Figure size 1000x600 with 2 Axes>"
      ]
     },
     "metadata": {},
     "output_type": "display_data"
    }
   ],
   "source": [
    "# Numeric correlation matrix\n",
    "plt.figure(figsize=(10, 6))\n",
    "sns.heatmap(df[['Processing_Time', 'Energy_Consumption', 'Machine_Availability', \n",
    "                'Delay_Minutes', 'Scheduled_Duration', 'Actual_Duration']].corr(), \n",
    "            annot=True, cmap='coolwarm')\n",
    "plt.title(\"Correlation Heatmap\")\n",
    "plt.show()"
   ]
  },
  {
   "cell_type": "markdown",
   "id": "79806f0e-7635-4010-a50d-758c007244b8",
   "metadata": {},
   "source": [
    "### Grouped Analysis"
   ]
  },
  {
   "cell_type": "code",
   "execution_count": 30,
   "id": "7f68add4-8b8b-4c74-a330-1b8b05e0c07d",
   "metadata": {},
   "outputs": [],
   "source": [
    "# Avg energy and time by optimization category\n",
    "opt_stats = df.groupby('Optimization_Category')[['Processing_Time', 'Energy_Consumption', 'Delay_Minutes']].mean()\n",
    "\n",
    "# Machine-level stats\n",
    "machine_stats = df.groupby('Machine_ID')[['Processing_Time', 'Energy_Consumption', 'Delay_Minutes']].mean()"
   ]
  },
  {
   "cell_type": "code",
   "execution_count": 28,
   "id": "a682a12d-a261-4f3e-b0e6-3fa35af82ade",
   "metadata": {},
   "outputs": [
    {
     "data": {
      "text/html": [
       "<div>\n",
       "<style scoped>\n",
       "    .dataframe tbody tr th:only-of-type {\n",
       "        vertical-align: middle;\n",
       "    }\n",
       "\n",
       "    .dataframe tbody tr th {\n",
       "        vertical-align: top;\n",
       "    }\n",
       "\n",
       "    .dataframe thead th {\n",
       "        text-align: right;\n",
       "    }\n",
       "</style>\n",
       "<table border=\"1\" class=\"dataframe\">\n",
       "  <thead>\n",
       "    <tr style=\"text-align: right;\">\n",
       "      <th></th>\n",
       "      <th>Processing_Time</th>\n",
       "      <th>Energy_Consumption</th>\n",
       "      <th>Delay_Minutes</th>\n",
       "    </tr>\n",
       "    <tr>\n",
       "      <th>Optimization_Category</th>\n",
       "      <th></th>\n",
       "      <th></th>\n",
       "      <th></th>\n",
       "    </tr>\n",
       "  </thead>\n",
       "  <tbody>\n",
       "    <tr>\n",
       "      <th>High Efficiency</th>\n",
       "      <td>69.347826</td>\n",
       "      <td>5.586211</td>\n",
       "      <td>2.167702</td>\n",
       "    </tr>\n",
       "    <tr>\n",
       "      <th>Low Efficiency</th>\n",
       "      <td>72.640000</td>\n",
       "      <td>8.492292</td>\n",
       "      <td>5.819578</td>\n",
       "    </tr>\n",
       "    <tr>\n",
       "      <th>Moderate Efficiency</th>\n",
       "      <td>68.125683</td>\n",
       "      <td>11.405464</td>\n",
       "      <td>2.765027</td>\n",
       "    </tr>\n",
       "    <tr>\n",
       "      <th>Optimal Efficiency</th>\n",
       "      <td>89.333333</td>\n",
       "      <td>2.461667</td>\n",
       "      <td>0.666667</td>\n",
       "    </tr>\n",
       "  </tbody>\n",
       "</table>\n",
       "</div>"
      ],
      "text/plain": [
       "                       Processing_Time  Energy_Consumption  Delay_Minutes\n",
       "Optimization_Category                                                    \n",
       "High Efficiency              69.347826            5.586211       2.167702\n",
       "Low Efficiency               72.640000            8.492292       5.819578\n",
       "Moderate Efficiency          68.125683           11.405464       2.765027\n",
       "Optimal Efficiency           89.333333            2.461667       0.666667"
      ]
     },
     "execution_count": 28,
     "metadata": {},
     "output_type": "execute_result"
    }
   ],
   "source": [
    "pd.DataFrame(opt_stats)"
   ]
  },
  {
   "cell_type": "code",
   "execution_count": 31,
   "id": "defc6bb6-1153-464e-9b38-8d29d89c38f5",
   "metadata": {},
   "outputs": [
    {
     "data": {
      "image/png": "[encoded data removed]",
      "text/plain": [
       "<Figure size 1000x600 with 1 Axes>"
      ]
     },
     "metadata": {},
     "output_type": "display_data"
    }
   ],
   "source": [
    "# Reset index so we can plot easily\n",
    "opt_stats_plot = opt_stats.reset_index()\n",
    "\n",
    "# Bar chart\n",
    "opt_stats_plot.plot(\n",
    "    x='Optimization_Category',\n",
    "    kind='bar',\n",
    "    figsize=(10, 6),\n",
    "    title='Avg Processing Time, Energy, and Delay by Optimization Category'\n",
    ")\n",
    "\n",
    "plt.ylabel(\"Average Value\")\n",
    "plt.xticks(rotation=45)\n",
    "plt.tight_layout()\n",
    "plt.show()"
   ]
  },
  {
   "cell_type": "code",
   "execution_count": 29,
   "id": "f363ae1c-c496-47ef-ba4e-cc75b92d98bf",
   "metadata": {},
   "outputs": [
    {
     "data": {
      "text/html": [
       "<div>\n",
       "<style scoped>\n",
       "    .dataframe tbody tr th:only-of-type {\n",
       "        vertical-align: middle;\n",
       "    }\n",
       "\n",
       "    .dataframe tbody tr th {\n",
       "        vertical-align: top;\n",
       "    }\n",
       "\n",
       "    .dataframe thead th {\n",
       "        text-align: right;\n",
       "    }\n",
       "</style>\n",
       "<table border=\"1\" class=\"dataframe\">\n",
       "  <thead>\n",
       "    <tr style=\"text-align: right;\">\n",
       "      <th></th>\n",
       "      <th>Processing_Time</th>\n",
       "      <th>Energy_Consumption</th>\n",
       "      <th>Delay_Minutes</th>\n",
       "    </tr>\n",
       "    <tr>\n",
       "      <th>Machine_ID</th>\n",
       "      <th></th>\n",
       "      <th></th>\n",
       "      <th></th>\n",
       "    </tr>\n",
       "  </thead>\n",
       "  <tbody>\n",
       "    <tr>\n",
       "      <th>M01</th>\n",
       "      <td>70.457547</td>\n",
       "      <td>8.452547</td>\n",
       "      <td>3.867725</td>\n",
       "    </tr>\n",
       "    <tr>\n",
       "      <th>M02</th>\n",
       "      <td>74.023810</td>\n",
       "      <td>8.423429</td>\n",
       "      <td>4.195767</td>\n",
       "    </tr>\n",
       "    <tr>\n",
       "      <th>M03</th>\n",
       "      <td>69.913978</td>\n",
       "      <td>8.759892</td>\n",
       "      <td>4.337580</td>\n",
       "    </tr>\n",
       "    <tr>\n",
       "      <th>M04</th>\n",
       "      <td>71.603015</td>\n",
       "      <td>8.538492</td>\n",
       "      <td>4.676829</td>\n",
       "    </tr>\n",
       "    <tr>\n",
       "      <th>M05</th>\n",
       "      <td>70.720207</td>\n",
       "      <td>8.455855</td>\n",
       "      <td>5.343023</td>\n",
       "    </tr>\n",
       "  </tbody>\n",
       "</table>\n",
       "</div>"
      ],
      "text/plain": [
       "            Processing_Time  Energy_Consumption  Delay_Minutes\n",
       "Machine_ID                                                    \n",
       "M01               70.457547            8.452547       3.867725\n",
       "M02               74.023810            8.423429       4.195767\n",
       "M03               69.913978            8.759892       4.337580\n",
       "M04               71.603015            8.538492       4.676829\n",
       "M05               70.720207            8.455855       5.343023"
      ]
     },
     "execution_count": 29,
     "metadata": {},
     "output_type": "execute_result"
    }
   ],
   "source": [
    "pd.DataFrame(machine_stats)"
   ]
  },
  {
   "cell_type": "code",
   "execution_count": 32,
   "id": "d38d69fc-0f5a-4bf7-8164-9165bba24739",
   "metadata": {},
   "outputs": [
    {
     "data": {
      "image/png": "[encoded data removed]",
      "text/plain": [
       "<Figure size 1000x600 with 1 Axes>"
      ]
     },
     "metadata": {},
     "output_type": "display_data"
    }
   ],
   "source": [
    "# Reset index for plotting\n",
    "machine_stats_plot = machine_stats.reset_index()\n",
    "\n",
    "# Bar chart with seaborn for better aesthetics\n",
    "import seaborn as sns\n",
    "plt.figure(figsize=(10, 6))\n",
    "\n",
    "# Melt data for grouped bar plot\n",
    "machine_melted = machine_stats_plot.melt(id_vars='Machine_ID',\n",
    "                                         value_vars=['Processing_Time', 'Energy_Consumption', 'Delay_Minutes'],\n",
    "                                         var_name='Metric', value_name='Value')\n",
    "\n",
    "sns.barplot(data=machine_melted, x='Machine_ID', y='Value', hue='Metric')\n",
    "plt.title('Machine-wise Average Performance')\n",
    "plt.ylabel(\"Average Value\")\n",
    "plt.tight_layout()\n",
    "plt.show()\n"
   ]
  },
  {
   "cell_type": "code",
   "execution_count": 33,
   "id": "9b2b76fb-1dce-44b6-a5ac-8fb6b80f7631",
   "metadata": {},
   "outputs": [
    {
     "data": {
      "text/html": [
       "<div>\n",
       "<style scoped>\n",
       "    .dataframe tbody tr th:only-of-type {\n",
       "        vertical-align: middle;\n",
       "    }\n",
       "\n",
       "    .dataframe tbody tr th {\n",
       "        vertical-align: top;\n",
       "    }\n",
       "\n",
       "    .dataframe thead th {\n",
       "        text-align: right;\n",
       "    }\n",
       "</style>\n",
       "<table border=\"1\" class=\"dataframe\">\n",
       "  <thead>\n",
       "    <tr style=\"text-align: right;\">\n",
       "      <th></th>\n",
       "      <th>Job_ID</th>\n",
       "      <th>Machine_ID</th>\n",
       "      <th>Operation_Type</th>\n",
       "      <th>Material_Used</th>\n",
       "      <th>Processing_Time</th>\n",
       "      <th>Energy_Consumption</th>\n",
       "      <th>Machine_Availability</th>\n",
       "      <th>Scheduled_Start</th>\n",
       "      <th>Scheduled_End</th>\n",
       "      <th>Actual_Start</th>\n",
       "      <th>Actual_End</th>\n",
       "      <th>Job_Status</th>\n",
       "      <th>Optimization_Category</th>\n",
       "      <th>Delay_Minutes</th>\n",
       "      <th>Scheduled_Duration</th>\n",
       "      <th>Actual_Duration</th>\n",
       "    </tr>\n",
       "  </thead>\n",
       "  <tbody>\n",
       "    <tr>\n",
       "      <th>0</th>\n",
       "      <td>J001</td>\n",
       "      <td>M01</td>\n",
       "      <td>Grinding</td>\n",
       "      <td>3.17</td>\n",
       "      <td>76</td>\n",
       "      <td>11.42</td>\n",
       "      <td>96</td>\n",
       "      <td>2023-03-18 08:00:00</td>\n",
       "      <td>2023-03-18 09:16:00</td>\n",
       "      <td>2023-03-18 08:05:00</td>\n",
       "      <td>2023-03-18 09:21:00</td>\n",
       "      <td>Completed</td>\n",
       "      <td>Moderate Efficiency</td>\n",
       "      <td>5.0</td>\n",
       "      <td>76.0</td>\n",
       "      <td>76.0</td>\n",
       "    </tr>\n",
       "    <tr>\n",
       "      <th>1</th>\n",
       "      <td>J002</td>\n",
       "      <td>M01</td>\n",
       "      <td>Grinding</td>\n",
       "      <td>3.35</td>\n",
       "      <td>79</td>\n",
       "      <td>6.61</td>\n",
       "      <td>84</td>\n",
       "      <td>2023-03-18 08:10:00</td>\n",
       "      <td>2023-03-18 09:29:00</td>\n",
       "      <td>2023-03-18 08:20:00</td>\n",
       "      <td>2023-03-18 09:39:00</td>\n",
       "      <td>Delayed</td>\n",
       "      <td>Low Efficiency</td>\n",
       "      <td>10.0</td>\n",
       "      <td>79.0</td>\n",
       "      <td>79.0</td>\n",
       "    </tr>\n",
       "    <tr>\n",
       "      <th>2</th>\n",
       "      <td>J003</td>\n",
       "      <td>M04</td>\n",
       "      <td>Additive</td>\n",
       "      <td>2.29</td>\n",
       "      <td>56</td>\n",
       "      <td>11.11</td>\n",
       "      <td>92</td>\n",
       "      <td>2023-03-18 08:20:00</td>\n",
       "      <td>2023-03-18 09:16:00</td>\n",
       "      <td>NaT</td>\n",
       "      <td>NaT</td>\n",
       "      <td>Failed</td>\n",
       "      <td>Low Efficiency</td>\n",
       "      <td>NaN</td>\n",
       "      <td>56.0</td>\n",
       "      <td>NaN</td>\n",
       "    </tr>\n",
       "    <tr>\n",
       "      <th>3</th>\n",
       "      <td>J004</td>\n",
       "      <td>M04</td>\n",
       "      <td>Grinding</td>\n",
       "      <td>1.76</td>\n",
       "      <td>106</td>\n",
       "      <td>12.50</td>\n",
       "      <td>95</td>\n",
       "      <td>2023-03-18 08:30:00</td>\n",
       "      <td>2023-03-18 10:16:00</td>\n",
       "      <td>2023-03-18 08:35:00</td>\n",
       "      <td>2023-03-18 10:21:00</td>\n",
       "      <td>Completed</td>\n",
       "      <td>Moderate Efficiency</td>\n",
       "      <td>5.0</td>\n",
       "      <td>106.0</td>\n",
       "      <td>106.0</td>\n",
       "    </tr>\n",
       "    <tr>\n",
       "      <th>4</th>\n",
       "      <td>J005</td>\n",
       "      <td>M01</td>\n",
       "      <td>Lathe</td>\n",
       "      <td>1.90</td>\n",
       "      <td>46</td>\n",
       "      <td>8.13</td>\n",
       "      <td>88</td>\n",
       "      <td>2023-03-18 08:40:00</td>\n",
       "      <td>2023-03-18 09:26:00</td>\n",
       "      <td>2023-03-18 08:42:00</td>\n",
       "      <td>2023-03-18 09:28:00</td>\n",
       "      <td>Completed</td>\n",
       "      <td>High Efficiency</td>\n",
       "      <td>2.0</td>\n",
       "      <td>46.0</td>\n",
       "      <td>46.0</td>\n",
       "    </tr>\n",
       "  </tbody>\n",
       "</table>\n",
       "</div>"
      ],
      "text/plain": [
       "  Job_ID Machine_ID Operation_Type  Material_Used  Processing_Time  \\\n",
       "0   J001        M01       Grinding           3.17               76   \n",
       "1   J002        M01       Grinding           3.35               79   \n",
       "2   J003        M04       Additive           2.29               56   \n",
       "3   J004        M04       Grinding           1.76              106   \n",
       "4   J005        M01          Lathe           1.90               46   \n",
       "\n",
       "   Energy_Consumption  Machine_Availability     Scheduled_Start  \\\n",
       "0               11.42                    96 2023-03-18 08:00:00   \n",
       "1                6.61                    84 2023-03-18 08:10:00   \n",
       "2               11.11                    92 2023-03-18 08:20:00   \n",
       "3               12.50                    95 2023-03-18 08:30:00   \n",
       "4                8.13                    88 2023-03-18 08:40:00   \n",
       "\n",
       "        Scheduled_End        Actual_Start          Actual_End Job_Status  \\\n",
       "0 2023-03-18 09:16:00 2023-03-18 08:05:00 2023-03-18 09:21:00  Completed   \n",
       "1 2023-03-18 09:29:00 2023-03-18 08:20:00 2023-03-18 09:39:00    Delayed   \n",
       "2 2023-03-18 09:16:00                 NaT                 NaT     Failed   \n",
       "3 2023-03-18 10:16:00 2023-03-18 08:35:00 2023-03-18 10:21:00  Completed   \n",
       "4 2023-03-18 09:26:00 2023-03-18 08:42:00 2023-03-18 09:28:00  Completed   \n",
       "\n",
       "  Optimization_Category  Delay_Minutes  Scheduled_Duration  Actual_Duration  \n",
       "0   Moderate Efficiency            5.0                76.0             76.0  \n",
       "1        Low Efficiency           10.0                79.0             79.0  \n",
       "2        Low Efficiency            NaN                56.0              NaN  \n",
       "3   Moderate Efficiency            5.0               106.0            106.0  \n",
       "4       High Efficiency            2.0                46.0             46.0  "
      ]
     },
     "execution_count": 33,
     "metadata": {},
     "output_type": "execute_result"
    }
   ],
   "source": [
    "df.head()"
   ]
  },
  {
   "cell_type": "code",
   "execution_count": 35,
   "id": "3b92094d-8f52-4b3f-9ef1-ef753890aed1",
   "metadata": {},
   "outputs": [
    {
     "data": {
      "image/png": "[encoded data removed]",
      "text/plain": [
       "<Figure size 1000x400 with 1 Axes>"
      ]
     },
     "metadata": {},
     "output_type": "display_data"
    }
   ],
   "source": [
    "df['Scheduled_Date'] = df['Scheduled_Start'].dt.date\n",
    "jobs_per_day = df.groupby('Scheduled_Date').size()\n",
    "\n",
    "jobs_per_day.plot(kind='line', figsize=(10, 4), title='Jobs Scheduled Per Day')\n",
    "plt.ylabel(\"Job Count\")\n",
    "plt.show()"
   ]
  },
  {
   "cell_type": "code",
   "execution_count": 36,
   "id": "329886b7-0426-40c0-aab5-c18c23eb034b",
   "metadata": {},
   "outputs": [
    {
     "data": {
      "image/png": "[encoded data removed]",
      "text/plain": [
       "<Figure size 1000x400 with 1 Axes>"
      ]
     },
     "metadata": {},
     "output_type": "display_data"
    }
   ],
   "source": [
    "df['Actual_Date'] = df['Actual_Start'].dt.date\n",
    "jobs_per_day = df.groupby('Actual_Date').size()\n",
    "\n",
    "jobs_per_day.plot(kind='line', figsize=(10, 4), title='Jobs Scheduled Per Day')\n",
    "plt.ylabel(\"Job Count\")\n",
    "plt.show()"
   ]
  },
  {
   "cell_type": "code",
   "execution_count": 37,
   "id": "a46006d9-0078-4149-8b65-aefcc8a21180",
   "metadata": {},
   "outputs": [],
   "source": [
    "df.to_csv(\"hybrid_system_cleaned.csv\", index=False)"
   ]
  },
  {
   "cell_type": "code",
   "execution_count": null,
   "id": "f33a4152-1503-4e05-858f-c4d7c07d6123",
   "metadata": {},
   "outputs": [],
   "source": []
  }
 ],
 "metadata": {
  "kernelspec": {
   "display_name": "Python 3 (ipykernel)",
   "language": "python",
   "name": "python3"
  },
  "language_info": {
   "codemirror_mode": {
    "name": "ipython",
    "version": 3
   },
   "file_extension": ".py",
   "mimetype": "text/x-python",
   "name": "python",
   "nbconvert_exporter": "python",
   "pygments_lexer": "ipython3",
   "version": "3.12.9"
  }
 },
 "nbformat": 4,
 "nbformat_minor": 5
}
